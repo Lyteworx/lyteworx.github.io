{
 "cells": [
  {
   "cell_type": "markdown",
   "source": [
    "The purpose of the code below is to download the latest COVID-19 data from \n",
    "Johns Hopkins University GitHub page, restructure it, clean it up a bit, \n",
    "and make some visualization using Plotly."
   ],
   "metadata": {
    "collapsed": false,
    "pycharm": {
     "name": "#%% md\n"
    }
   }
  },
  {
   "cell_type": "code",
   "execution_count": 28,
   "outputs": [],
   "source": [
    "# All the imports in one place\n",
    "import numpy as np\n",
    "import pandas as pd\n",
    "import os\n",
    "import subprocess\n",
    "import pycountry\n",
    "import plotly.express as px\n",
    "\n",
    "from pathlib import Path"
   ],
   "metadata": {
    "collapsed": false,
    "pycharm": {
     "name": "#%%\n"
    }
   }
  },
  {
   "cell_type": "markdown",
   "source": [
    "To make sure that the charts are always made with the latest data the next\n",
    "section launches a subprocess to run git and pull form the remote\n",
    "repository.  It does the same thing as if you opened a terminal and ran:\n",
    "\n",
    "`git pull https://github.com/CSSEGISandData/COVID-19.git`\n",
    "\n",
    "This code assumes that your local COVID-19 repo is in the same parent folder of\n",
    "as this repo, so prior to calling git the `os.chir` method is used to ensure\n",
    "you are in the right folder.  (Don't worry, we come back home after everything\n",
    "is loaded.)\n",
    "\n",
    "The output message is printed to the screen to let you know if files were\n",
    "updated or if you are already up to date."
   ],
   "metadata": {
    "collapsed": false,
    "pycharm": {
     "name": "#%% md\n"
    }
   }
  },
  {
   "cell_type": "code",
   "execution_count": 29,
   "outputs": [
    {
     "name": "stdout",
     "output_type": "stream",
     "text": [
      "Updating 9fbca1dc..5184bec7\n",
      "Fast-forward\n",
      " README.md                                          |    3 +\n",
      " csse_covid_19_data/README.md                       |    1 +\n",
      " .../csse_covid_19_daily_reports/05-08-2020.csv     | 3231 ++++++++++\n",
      " .../csse_covid_19_daily_reports/05-09-2020.csv     | 3233 ++++++++++\n",
      " .../csse_covid_19_daily_reports/05-10-2020.csv     | 3235 ++++++++++\n",
      " .../csse_covid_19_daily_reports_us/05-08-2020.csv  |   59 +\n",
      " .../csse_covid_19_daily_reports_us/05-09-2020.csv  |   59 +\n",
      " .../csse_covid_19_daily_reports_us/05-10-2020.csv  |   59 +\n",
      " .../csse_covid_19_time_series/Errata.csv           |    8 +\n",
      " .../time_series_covid19_confirmed_US.csv           | 6524 ++++++++++----------\n",
      " .../time_series_covid19_confirmed_global.csv       |  534 +-\n",
      " .../time_series_covid19_deaths_US.csv              | 6524 ++++++++++----------\n",
      " .../time_series_covid19_deaths_global.csv          |  534 +-\n",
      " .../time_series_covid19_recovered_global.csv       |  506 +-\n",
      " 14 files changed, 17199 insertions(+), 7311 deletions(-)\n",
      " create mode 100644 csse_covid_19_data/csse_covid_19_daily_reports/05-08-2020.csv\n",
      " create mode 100644 csse_covid_19_data/csse_covid_19_daily_reports/05-09-2020.csv\n",
      " create mode 100644 csse_covid_19_data/csse_covid_19_daily_reports/05-10-2020.csv\n",
      " create mode 100644 csse_covid_19_data/csse_covid_19_daily_reports_us/05-08-2020.csv\n",
      " create mode 100644 csse_covid_19_data/csse_covid_19_daily_reports_us/05-09-2020.csv\n",
      " create mode 100644 csse_covid_19_data/csse_covid_19_daily_reports_us/05-10-2020.csv\n",
      "\n"
     ]
    }
   ],
   "source": [
    "# assumes git is installed\n",
    "# assumes you are storing data in parent directory\n",
    "\n",
    "os.chdir('../data/COVID-19')\n",
    "cmd = ['git', 'pull', 'https://github.com/CSSEGISandData/COVID-19.git']\n",
    "out = subprocess.run(cmd, stdout=subprocess.PIPE)\n",
    "print(out.stdout.decode())"
   ],
   "metadata": {
    "collapsed": false,
    "pycharm": {
     "name": "#%%\n"
    }
   }
  },
  {
   "cell_type": "markdown",
   "source": [
    "We now have to define the path to the time series data and load them into\n",
    "Pandas data frames.  JHU organizes the confirmed cases and deaths data\n",
    "separately.  Here you see that the `Path` class was used from the `pathlib`\n",
    "module.  This is a little extra, but it allows the code to be platform\n",
    "agnostic.\n",
    "\n",
    "Since we're done loading the JHU data we can go home again using the `os.chir`\n",
    "command.  You may have to change this based on your structure and how you\n",
    "name your project."
   ],
   "metadata": {
    "collapsed": false,
    "pycharm": {
     "name": "#%% md\n"
    }
   }
  },
  {
   "cell_type": "code",
   "execution_count": 30,
   "outputs": [],
   "source": [
    "gl_confirmed_path = Path().joinpath('csse_covid_19_data',\n",
    "                            'csse_covid_19_time_series',\n",
    "                            'time_series_covid19_confirmed_global.csv')\n",
    "\n",
    "gl_death_path = Path().joinpath('csse_covid_19_data',\n",
    "                            'csse_covid_19_time_series',\n",
    "                            'time_series_covid19_deaths_global.csv')\n",
    "\n",
    "gl_c = pd.read_csv(gl_confirmed_path)\n",
    "gl_d = pd.read_csv(gl_death_path)\n",
    "\n",
    "os.chdir('../../scripts/')"
   ],
   "metadata": {
    "collapsed": false,
    "pycharm": {
     "name": "#%%\n"
    }
   }
  },
  {
   "cell_type": "markdown",
   "source": [
    "For the charts I want to make I need to know the continent for each country. I\n",
    "grabbed a file of countries and continents from\n",
    "https://datahub.io/JohnSnowLabs/country-and-continent-codes-list and put it in\n",
    "my data folder.\n",
    "\n",
    "To build a dictionary of just the country names and its continent.  I do it by\n",
    "1. Loading the `csv` into a data frame (`df_con`)\n",
    "2. Create a dictionary\n",
    "3. Iterate over `df_con` row by row using `itertuples`\n",
    "4. Assign key/value pairs accessing the data with dot notation\n",
    "\n",
    "There are some country names that are in the JHU data but not in the `csv`.  At\n",
    "this point I decided to add the JHU names to this dictionary rather than change\n",
    "the JHU names.  For a different purpose I'll change JHU the names to conform\n",
    "with ISO standards, but for now I'll just update the dictionary I just loaded."
   ],
   "metadata": {
    "collapsed": false,
    "pycharm": {
     "name": "#%% md\n"
    }
   }
  },
  {
   "cell_type": "code",
   "execution_count": 31,
   "outputs": [],
   "source": [
    "df_con = pd.read_csv('../data/country-and-continent-codes-list.csv')\n",
    "continent_map = dict()\n",
    "for row in df_con.itertuples():\n",
    "    continent_map[row.Country_Name] = row.Continent_Name\n",
    "continent_map.update({'US': 'North America', 'UK': 'Europe',\n",
    "                      'Cabo Verde': 'Africa', 'Congo (Brazzaville)': 'Africa',\n",
    "                      'Congo (Kinshasa)': 'Africa', 'Czechia': 'Europe',\n",
    "                      'Diamond Princess': 'Asia', 'Eswatini': 'Africa',\n",
    "                      'Korea, South': 'Asia', 'Kyrgyzstan': 'Asia',\n",
    "                      'North Macedonia': 'Europe', 'Taiwan*': 'Asia',\n",
    "                      'Laos': 'Asia', 'West Bank and Gaza': 'Asia',\n",
    "                      'Kosovo': 'Europe', 'Burma': 'Asia',\n",
    "                      'MS Zaandam': 'North America'})\n"
   ],
   "metadata": {
    "collapsed": false,
    "pycharm": {
     "name": "#%%\n"
    }
   }
  },
  {
   "cell_type": "markdown",
   "source": [
    "This next section actually does a lot of heavy lifting.  This code is needed to\n",
    "get the data in a structure that's way easier for making charts.  In JHU time\n",
    "series files they add a column with numbers for that day.\n",
    "It looks like this:"
   ],
   "metadata": {
    "collapsed": false,
    "pycharm": {
     "name": "#%% md\n"
    }
   }
  },
  {
   "cell_type": "code",
   "execution_count": 32,
   "outputs": [
    {
     "data": {
      "text/plain": "  Province/State Country/Region      Lat     Long  1/22/20  1/23/20  1/24/20  \\\n0            NaN    Afghanistan  33.0000  65.0000        0        0        0   \n1            NaN        Albania  41.1533  20.1683        0        0        0   \n2            NaN        Algeria  28.0339   1.6596        0        0        0   \n3            NaN        Andorra  42.5063   1.5218        0        0        0   \n4            NaN         Angola -11.2027  17.8739        0        0        0   \n\n   1/25/20  1/26/20  1/27/20  ...  5/1/20  5/2/20  5/3/20  5/4/20  5/5/20  \\\n0        0        0        0  ...    2335    2469    2704    2894    3224   \n1        0        0        0  ...     782     789     795     803     820   \n2        0        0        0  ...    4154    4295    4474    4648    4838   \n3        0        0        0  ...     745     747     748     750     751   \n4        0        0        0  ...      30      35      35      35      36   \n\n   5/6/20  5/7/20  5/8/20  5/9/20  5/10/20  \n0    3392    3563    3778    4033     4402  \n1     832     842     850     856      868  \n2    4997    5182    5369    5558     5723  \n3     751     752     752     754      755  \n4      36      36      43      43       45  \n\n[5 rows x 114 columns]",
      "text/html": "<div>\n<style scoped>\n    .dataframe tbody tr th:only-of-type {\n        vertical-align: middle;\n    }\n\n    .dataframe tbody tr th {\n        vertical-align: top;\n    }\n\n    .dataframe thead th {\n        text-align: right;\n    }\n</style>\n<table border=\"1\" class=\"dataframe\">\n  <thead>\n    <tr style=\"text-align: right;\">\n      <th></th>\n      <th>Province/State</th>\n      <th>Country/Region</th>\n      <th>Lat</th>\n      <th>Long</th>\n      <th>1/22/20</th>\n      <th>1/23/20</th>\n      <th>1/24/20</th>\n      <th>1/25/20</th>\n      <th>1/26/20</th>\n      <th>1/27/20</th>\n      <th>...</th>\n      <th>5/1/20</th>\n      <th>5/2/20</th>\n      <th>5/3/20</th>\n      <th>5/4/20</th>\n      <th>5/5/20</th>\n      <th>5/6/20</th>\n      <th>5/7/20</th>\n      <th>5/8/20</th>\n      <th>5/9/20</th>\n      <th>5/10/20</th>\n    </tr>\n  </thead>\n  <tbody>\n    <tr>\n      <th>0</th>\n      <td>NaN</td>\n      <td>Afghanistan</td>\n      <td>33.0000</td>\n      <td>65.0000</td>\n      <td>0</td>\n      <td>0</td>\n      <td>0</td>\n      <td>0</td>\n      <td>0</td>\n      <td>0</td>\n      <td>...</td>\n      <td>2335</td>\n      <td>2469</td>\n      <td>2704</td>\n      <td>2894</td>\n      <td>3224</td>\n      <td>3392</td>\n      <td>3563</td>\n      <td>3778</td>\n      <td>4033</td>\n      <td>4402</td>\n    </tr>\n    <tr>\n      <th>1</th>\n      <td>NaN</td>\n      <td>Albania</td>\n      <td>41.1533</td>\n      <td>20.1683</td>\n      <td>0</td>\n      <td>0</td>\n      <td>0</td>\n      <td>0</td>\n      <td>0</td>\n      <td>0</td>\n      <td>...</td>\n      <td>782</td>\n      <td>789</td>\n      <td>795</td>\n      <td>803</td>\n      <td>820</td>\n      <td>832</td>\n      <td>842</td>\n      <td>850</td>\n      <td>856</td>\n      <td>868</td>\n    </tr>\n    <tr>\n      <th>2</th>\n      <td>NaN</td>\n      <td>Algeria</td>\n      <td>28.0339</td>\n      <td>1.6596</td>\n      <td>0</td>\n      <td>0</td>\n      <td>0</td>\n      <td>0</td>\n      <td>0</td>\n      <td>0</td>\n      <td>...</td>\n      <td>4154</td>\n      <td>4295</td>\n      <td>4474</td>\n      <td>4648</td>\n      <td>4838</td>\n      <td>4997</td>\n      <td>5182</td>\n      <td>5369</td>\n      <td>5558</td>\n      <td>5723</td>\n    </tr>\n    <tr>\n      <th>3</th>\n      <td>NaN</td>\n      <td>Andorra</td>\n      <td>42.5063</td>\n      <td>1.5218</td>\n      <td>0</td>\n      <td>0</td>\n      <td>0</td>\n      <td>0</td>\n      <td>0</td>\n      <td>0</td>\n      <td>...</td>\n      <td>745</td>\n      <td>747</td>\n      <td>748</td>\n      <td>750</td>\n      <td>751</td>\n      <td>751</td>\n      <td>752</td>\n      <td>752</td>\n      <td>754</td>\n      <td>755</td>\n    </tr>\n    <tr>\n      <th>4</th>\n      <td>NaN</td>\n      <td>Angola</td>\n      <td>-11.2027</td>\n      <td>17.8739</td>\n      <td>0</td>\n      <td>0</td>\n      <td>0</td>\n      <td>0</td>\n      <td>0</td>\n      <td>0</td>\n      <td>...</td>\n      <td>30</td>\n      <td>35</td>\n      <td>35</td>\n      <td>35</td>\n      <td>36</td>\n      <td>36</td>\n      <td>36</td>\n      <td>43</td>\n      <td>43</td>\n      <td>45</td>\n    </tr>\n  </tbody>\n</table>\n<p>5 rows × 114 columns</p>\n</div>"
     },
     "execution_count": 32,
     "metadata": {},
     "output_type": "execute_result"
    }
   ],
   "source": [
    "gl_c.head(5)"
   ],
   "metadata": {
    "collapsed": false,
    "pycharm": {
     "name": "#%%\n"
    }
   }
  },
  {
   "cell_type": "markdown",
   "source": [
    "To get it in the structure I want it in I\n",
    " 1. Group it by *Country/Region* `gl_c.groupby('Country/Region')`\n",
    " 2. Add up the numbers to get the all the states/provinces for that country:\n",
    "   `.sum()`\n",
    " 3. Slice it to exclude the *Lat* and *Long* columns: `.iloc[:, 2:]`\n",
    " 4. Unstack it (similar result as transpose): `.unstack()`\n",
    " 5. Reset the index to put the country name on each row: `.reset_index()`\n",
    "\n",
    "It end up looking like this:"
   ],
   "metadata": {
    "collapsed": false,
    "pycharm": {
     "name": "#%% md\n"
    }
   }
  },
  {
   "cell_type": "code",
   "execution_count": 33,
   "outputs": [
    {
     "data": {
      "text/plain": "       level_0      Country/Region    0\n20565  5/10/20  West Bank and Gaza  375\n20566  5/10/20      Western Sahara    6\n20567  5/10/20               Yemen   51\n20568  5/10/20              Zambia  267\n20569  5/10/20            Zimbabwe   36",
      "text/html": "<div>\n<style scoped>\n    .dataframe tbody tr th:only-of-type {\n        vertical-align: middle;\n    }\n\n    .dataframe tbody tr th {\n        vertical-align: top;\n    }\n\n    .dataframe thead th {\n        text-align: right;\n    }\n</style>\n<table border=\"1\" class=\"dataframe\">\n  <thead>\n    <tr style=\"text-align: right;\">\n      <th></th>\n      <th>level_0</th>\n      <th>Country/Region</th>\n      <th>0</th>\n    </tr>\n  </thead>\n  <tbody>\n    <tr>\n      <th>20565</th>\n      <td>5/10/20</td>\n      <td>West Bank and Gaza</td>\n      <td>375</td>\n    </tr>\n    <tr>\n      <th>20566</th>\n      <td>5/10/20</td>\n      <td>Western Sahara</td>\n      <td>6</td>\n    </tr>\n    <tr>\n      <th>20567</th>\n      <td>5/10/20</td>\n      <td>Yemen</td>\n      <td>51</td>\n    </tr>\n    <tr>\n      <th>20568</th>\n      <td>5/10/20</td>\n      <td>Zambia</td>\n      <td>267</td>\n    </tr>\n    <tr>\n      <th>20569</th>\n      <td>5/10/20</td>\n      <td>Zimbabwe</td>\n      <td>36</td>\n    </tr>\n  </tbody>\n</table>\n</div>"
     },
     "execution_count": 33,
     "metadata": {},
     "output_type": "execute_result"
    }
   ],
   "source": [
    "c = gl_c.groupby('Country/Region').sum().iloc[:, 2:].unstack().reset_index()\n",
    "c.tail(5)"
   ],
   "metadata": {
    "collapsed": false,
    "pycharm": {
     "name": "#%%\n"
    }
   }
  },
  {
   "cell_type": "markdown",
   "source": [
    "Next we do the same transform on the death data frame and combine the two\n",
    "frames merging on the date and country.  Then take care of some housekeeping by\n",
    "renaming the the columns to be more descriptive and useful."
   ],
   "metadata": {
    "collapsed": false,
    "pycharm": {
     "name": "#%% md\n"
    }
   }
  },
  {
   "cell_type": "code",
   "execution_count": 34,
   "outputs": [],
   "source": [
    "d = gl_d.groupby('Country/Region').sum().iloc[:, 2:].unstack().reset_index()\n",
    "df = pd.merge(c, d, on=['level_0', 'Country/Region'])\n",
    "new_names = {'level_0': 'Date', 'Country/Region': 'Country',\n",
    "             '0_x': 'Confirmed', '0_y': 'Deaths'}\n",
    "df = df.rename(columns=new_names)"
   ],
   "metadata": {
    "collapsed": false,
    "pycharm": {
     "name": "#%%\n"
    }
   }
  },
  {
   "cell_type": "markdown",
   "source": [
    "Reformat the *Date* to be standardized."
   ],
   "metadata": {
    "collapsed": false,
    "pycharm": {
     "name": "#%% md\n"
    }
   }
  },
  {
   "cell_type": "code",
   "execution_count": 35,
   "outputs": [],
   "source": [
    "df['Date'] = pd.to_datetime(df['Date']).dt.strftime(\"%Y-%m-%d\")"
   ],
   "metadata": {
    "collapsed": false,
    "pycharm": {
     "name": "#%%\n"
    }
   }
  },
  {
   "cell_type": "markdown",
   "source": [
    "Combine all rows that have the same country name and date. (This might not\n",
    "actually be needed, but I probably added it to fix something that was broken.)"
   ],
   "metadata": {
    "collapsed": false,
    "pycharm": {
     "name": "#%% md\n"
    }
   }
  },
  {
   "cell_type": "code",
   "execution_count": 36,
   "outputs": [],
   "source": [
    "df = df.groupby(['Date', 'Country']).sum().reset_index() # combine duplicate rows"
   ],
   "metadata": {
    "collapsed": false,
    "pycharm": {
     "name": "#%%\n"
    }
   }
  },
  {
   "cell_type": "markdown",
   "source": [
    "Create the *Death Rate* percentage, replace NAN values with 1, and round to two\n",
    "decimal places."
   ],
   "metadata": {
    "collapsed": false,
    "pycharm": {
     "name": "#%% md\n"
    }
   }
  },
  {
   "cell_type": "code",
   "execution_count": 37,
   "outputs": [],
   "source": [
    "df['Death Rate'] = (df.Deaths / df.Confirmed * 100).fillna(1).round(2)"
   ],
   "metadata": {
    "collapsed": false,
    "pycharm": {
     "name": "#%%\n"
    }
   }
  },
  {
   "cell_type": "markdown",
   "source": [
    "One of my favorite ways to set values in Pandas is to first get make an index\n",
    "of all the rows that match the conditions for the change I need to make.  Then\n",
    "I use the `.at` method to set the value I want.\n",
    "\n",
    "Below I make a bubble chart and the size of the bubble is based on the *Death\n",
    "Rate*.  If no one has died yet then the size of the bubble is zero, then you\n",
    "can't see the bubble at all.  Here I find all the rows where *Death Rate* is\n",
    "zero and change it to one."
   ],
   "metadata": {
    "collapsed": false,
    "pycharm": {
     "name": "#%% md\n"
    }
   }
  },
  {
   "cell_type": "code",
   "execution_count": 38,
   "outputs": [],
   "source": [
    "idx = df[df['Death Rate'] == 0].index\n",
    "df.at[idx, 'Death Rate'] = 1  # controls the bubble size"
   ],
   "metadata": {
    "collapsed": false,
    "pycharm": {
     "name": "#%%\n"
    }
   }
  },
  {
   "cell_type": "markdown",
   "source": [
    "Here is a little function that is used to add the continent name to\n",
    "the main data frame.  It takes the country name and returns which continent it\n",
    "is on.  It has a little bit of lazy search by looking for the country in the\n",
    "key.\n",
    "\n",
    "This is a good example of how to use the `.apply` method in Pandas.  It was\n",
    "after using this function that I learned which *key/value* pairs I have to add\n",
    "to the `continent_map` dictionary."
   ],
   "metadata": {
    "collapsed": false,
    "pycharm": {
     "name": "#%% md\n"
    }
   }
  },
  {
   "cell_type": "code",
   "execution_count": 39,
   "outputs": [],
   "source": [
    "def find_continent(country):\n",
    "    for key, value in continent_map.items():\n",
    "        if country in key:\n",
    "            return value\n",
    "\n",
    "df['Continent'] = df.Country.apply(find_continent)  # assign continent"
   ],
   "metadata": {
    "collapsed": false,
    "pycharm": {
     "name": "#%%\n"
    }
   }
  },
  {
   "cell_type": "markdown",
   "source": [
    "I found that in the data there are sometime negative entries.  Think these were\n",
    "reported to correct previously over-reported numbers, but I'm not really sure.\n",
    "I clean this up quick and dirty by finding the negative values and setting them\n",
    "to zero.  If in fact negative numbers are reported to correct the data, then\n",
    "my numbers will be higher than other. It might be worth going back and fixing\n",
    "the number correctly by modifying the previous value. But for now, this will\n",
    "do."
   ],
   "metadata": {
    "collapsed": false,
    "pycharm": {
     "name": "#%% md\n"
    }
   }
  },
  {
   "cell_type": "code",
   "execution_count": 40,
   "outputs": [],
   "source": [
    "idx = df[df['Confirmed'] < 0].index\n",
    "df.at[idx, 'Confirmed'] = 0 # no negative cases allowed\n",
    "\n",
    "idx = df[df['Deaths'] < 0].index\n",
    "df.at[idx, 'Deaths'] = 0 # no negative deaths allowed\n",
    "\n",
    "# people on Antarctica are social distancing enough.\n",
    "idx = df[df.Continent == 'Antarctica'].index\n",
    "df.drop(idx, inplace=True)\n"
   ],
   "metadata": {
    "collapsed": false,
    "pycharm": {
     "name": "#%%\n"
    }
   }
  },
  {
   "cell_type": "markdown",
   "source": [
    "Using the [choropleth](https://plotly.com/python/choropleth-maps/) library in\n",
    "Plotly requires that the countries are described by their 3-letter\n",
    "abbreviation.  I have identified the main offenders and build a\n",
    "`country_correction` dictionary with the country names that I know will be\n",
    "recognized by the `pycountry` package that I use to lookup the ISO `alpha_3`.\n",
    "\n",
    "I don't like nest `try except` statements but I couldn't figure out a cleaner\n",
    "way to take care of this.  Let me know if you have a better way.\n",
    "(richard.payton@lytworx.com)"
   ],
   "metadata": {
    "collapsed": false,
    "pycharm": {
     "name": "#%% md\n"
    }
   }
  },
  {
   "cell_type": "code",
   "execution_count": 41,
   "outputs": [
    {
     "name": "stdout",
     "output_type": "stream",
     "text": [
      "No country data for Diamond Princess.\n",
      "No country data for MS Zaandam.\n"
     ]
    }
   ],
   "source": [
    "country_correction = {\n",
    "    'Burma': 'Myanmar',\n",
    "    'Congo (Brazzaville)': 'Republic of the Congo',\n",
    "    'Congo (Kinshasa)': 'Congo, The Democratic Republic of the',\n",
    "    'Korea, South': 'Korea, Republic of',\n",
    "    'Laos': \"Lao People's Democratic Republic\",\n",
    "    'Taiwan*': 'Taiwan',\n",
    "    'West Bank and Gaza': 'Palestine, State of',\n",
    "    }\n",
    "for key, value in country_correction.items():\n",
    "    idx = df[df.Country == key].index\n",
    "    df.at[idx, 'Country'] = value\n",
    "\n",
    "def assign_alpha(x):\n",
    "    try:\n",
    "        a = pycountry.countries.get(name=x).alpha_3\n",
    "        return a\n",
    "    except AttributeError:\n",
    "        try:\n",
    "            a = pycountry.countries.get(common_name=x).alpha_3\n",
    "            return a\n",
    "        except AttributeError:\n",
    "            try:\n",
    "                a = pycountry.countries.search_fuzzy(x)\n",
    "                a = a[0].alpha_3\n",
    "                return a\n",
    "            except LookupError:\n",
    "                print(f'No country data for {x}.')\n",
    "                return x\n",
    "\n",
    "for c in df.Country.unique():\n",
    "    idx = df[df.Country == c].index\n",
    "    df.at[idx, 'iso_alpha_3'] = assign_alpha(c)"
   ],
   "metadata": {
    "collapsed": false,
    "pycharm": {
     "name": "#%% ISO country repair\n"
    }
   }
  },
  {
   "cell_type": "markdown",
   "source": [
    "In order to set my scale on some of the color coded plots I need to know the\n",
    "max values for each country over the entire time span.  I loop through all the\n",
    "unique country names, find the max value and append to the `max_list`.  This is\n",
    "useful for setting the scale to max at the 99th percentile so that the\n",
    "numbers in the United States don't blow out the scale."
   ],
   "metadata": {
    "collapsed": false,
    "pycharm": {
     "name": "#%% md\n"
    }
   }
  },
  {
   "cell_type": "code",
   "execution_count": 42,
   "outputs": [],
   "source": [
    "max_list = list()\n",
    "for c in df.Country.unique():\n",
    "    max_list.append(df.Confirmed[df.Country == c].max())"
   ],
   "metadata": {
    "collapsed": false,
    "pycharm": {
     "name": "#%%\n"
    }
   }
  },
  {
   "cell_type": "markdown",
   "source": [
    "Now we are ready to make plots!  This will create a choropleth (shaded map)\n",
    "that shows the number of confirmed cases.  It is an animated figure that\n",
    "progresses from 14 Feb 2020 to whenever the data ends. Notice that the Plotly\n",
    "title knows how to parse HTML (and my use of `f` strings.)"
   ],
   "metadata": {
    "collapsed": false,
    "pycharm": {
     "name": "#%% md\n"
    }
   }
  },
  {
   "cell_type": "code",
   "execution_count": 43,
   "outputs": [],
   "source": [
    "q = 99\n",
    "cmax = int(np.percentile(max_list, q))\n",
    "\n",
    "fig = px.choropleth(\n",
    "    df[df.Date >= '2020-02-14'],\n",
    "    locations=\"iso_alpha_3\",\n",
    "    color=\"Confirmed\",\n",
    "    animation_frame='Date',\n",
    "    animation_group='Country',\n",
    "    hover_name=\"Country\",\n",
    "    color_continuous_scale=px.colors.diverging.Portland,\n",
    "    range_color=[0,cmax],\n",
    "    projection='natural earth',\n",
    "    title=f'COVID-19 Confirmed Cases (scale maxed at {q}th percentile: {cmax:,})<br>'\n",
    "          f'Source:<a href=\"https://github.com/CSSEGISandData/COVID-19/tree/master/csse_covid_19_data\">'\n",
    "          f'JHU CSSE COVID-19 Dataset</a>'\n",
    "    )\n",
    "# fig.show()\n",
    "fig.write_html('../charts/global_confirmed_cases_map.html')"
   ],
   "metadata": {
    "collapsed": false,
    "pycharm": {
     "name": "#%%\n"
    }
   }
  },
  {
   "cell_type": "markdown",
   "source": [
    "This will create an animated bubble chart that shows the number of deaths\n",
    "versus the number of cases.  The size of the bubble is determined by the death\n",
    "rate percentage calculated above."
   ],
   "metadata": {
    "collapsed": false,
    "pycharm": {
     "name": "#%% md\n"
    }
   }
  },
  {
   "cell_type": "code",
   "execution_count": 44,
   "outputs": [],
   "source": [
    "days = df.Date.unique()\n",
    "fig = px.scatter(\n",
    "    data_frame=df,\n",
    "    x='Confirmed',\n",
    "    y='Deaths',\n",
    "    animation_frame='Date',\n",
    "    animation_group='Country',\n",
    "    size='Death Rate',\n",
    "    color='Continent',\n",
    "    hover_name='Country',\n",
    "    size_max=100,\n",
    "    title=f'COVID-19 Confirmed Cases<br>'\n",
    "          f'Source:<a href=\"https://github.com/CSSEGISandData/COVID-19/tree/master/csse_covid_19_data\">'\n",
    "          f'JHU CSSE COVID-19 Dataset</a>',\n",
    "    category_orders={'Day':days}\n",
    ")\n",
    "fig.update_layout(width=1200)\n",
    "# fig.show()\n",
    "fig.write_html(\"../charts/global_confirmed_cases_bubble_chart.html\")"
   ],
   "metadata": {
    "collapsed": false,
    "pycharm": {
     "name": "#%%\n"
    }
   }
  },
  {
   "cell_type": "markdown",
   "source": [
    "This is another figure with bubble charts, using all the same data as the\n",
    "previous figure, but making a separate chart for each continent."
   ],
   "metadata": {
    "collapsed": false,
    "pycharm": {
     "name": "#%% md\n"
    }
   }
  },
  {
   "cell_type": "code",
   "execution_count": 45,
   "outputs": [],
   "source": [
    "fig = px.scatter(\n",
    "    data_frame=df,\n",
    "    x='Confirmed',\n",
    "    y='Deaths',\n",
    "    animation_frame='Date',\n",
    "    animation_group='Country',\n",
    "    size='Death Rate',\n",
    "    color='Country',\n",
    "    hover_name='Country',\n",
    "    facet_col='Continent',\n",
    "    facet_col_wrap=3,\n",
    "    size_max=75,\n",
    "    title=f'COVID-19 Confirmed Cases<br>'\n",
    "          f'Source:<a href=\"https://github.com/CSSEGISandData/COVID-19/tree/master/csse_covid_19_data\">'\n",
    "          f'JHU CSSE COVID-19 Dataset</a>',\n",
    "    category_orders={'Day':days}\n",
    ")\n",
    "fig.update_layout(width=1200)\n",
    "# fig.show()\n",
    "fig.write_html(\"../charts/global_confirmed_cases_bubble_chart_per_continent.html\")"
   ],
   "metadata": {
    "collapsed": false,
    "pycharm": {
     "name": "#%%\n"
    }
   }
  },
  {
   "cell_type": "markdown",
   "source": [],
   "metadata": {
    "collapsed": false,
    "pycharm": {
     "name": "#%% md\n"
    }
   }
  },
  {
   "cell_type": "code",
   "execution_count": 46,
   "outputs": [],
   "source": [
    "def split_by_state(country, df):\n",
    "    df = df[df.Country == country].copy()\n",
    "    return df\n",
    "\n",
    "def calc_growth_rate(df):\n",
    "    #calc growth rate\n",
    "    df['today'] = df.Confirmed.diff().fillna(0)\n",
    "    df['yesterday'] = df.today.shift(1).fillna(method='ffill')\n",
    "    df['growth_rate'] = (df['today'] / df['yesterday'] - 1).round(3)\n",
    "    df['growth_rate'] = df['growth_rate'].replace([np.inf, -np.inf], np.nan)\n",
    "    df['growth_rate'] = df['growth_rate'].fillna(method='ffill')\n",
    "    # calc rolling growth rate\n",
    "    df['Date'] = pd.to_datetime(df['Date'])\n",
    "    df = df.set_index('Date', drop=False)\n",
    "    df = df.sort_index()\n",
    "    df['rolling_growth_rate'] = df['growth_rate'].clip(-5,5).rolling('14d').mean().round(3)\n",
    "    df['Date'] = df['Date'].apply(lambda x: x.strftime('%Y-%m-%d'))\n",
    "    return df\n",
    "\n",
    "df_c = list()\n",
    "for c in df.Country.unique():\n",
    "    df_c.append(split_by_state(c, df))\n",
    "\n",
    "new_dfs = list()\n",
    "for d in df_c:\n",
    "    new_dfs.append(calc_growth_rate(d))\n",
    "\n",
    "sdn = pd.concat(new_dfs, ignore_index=True)\n",
    "sdn.reset_index(drop=True)\n",
    "sdn.to_csv('../data/global_confirmed_growth_rate.csv', index=False)"
   ],
   "metadata": {
    "collapsed": false,
    "pycharm": {
     "name": "#%% growth rate\n"
    }
   }
  },
  {
   "cell_type": "code",
   "execution_count": 47,
   "outputs": [],
   "source": [
    "fig = px.choropleth(\n",
    "    sdn[(sdn.Date >= '2020-01-01') &\n",
    "        (pd.to_datetime(sdn.Date) <= pd.to_datetime(sdn.Date.max()) - pd.Timedelta(days=1))],\n",
    "    locations='iso_alpha_3',\n",
    "    color='rolling_growth_rate',\n",
    "    animation_frame='Date',\n",
    "    animation_group='Country',\n",
    "    hover_name=\"Country\",\n",
    "    hover_data=['Date', 'Confirmed', 'Deaths', 'today', 'yesterday',\n",
    "                'growth_rate'],\n",
    "    color_continuous_scale=px.colors.diverging.RdYlGn_r,\n",
    "    color_continuous_midpoint=0,\n",
    "    range_color=[-1,1],\n",
    "    projection='natural earth',\n",
    "    title=f'COVID-19 Confirmed Cases Rolling 14-Day Average Growth Rate<br>'\n",
    "          f'Source: <a href=\"https://github.com/CSSEGISandData/COVID-19/tree/master/csse_covid_19_data\">'\n",
    "          f'JHU CSSE COVID-19 Dataset</a>'\n",
    "    )\n",
    "fig.update_layout(\n",
    "    coloraxis_colorbar=dict(\n",
    "        title='Rolling Growth Rate'\n",
    "        )\n",
    "    )\n",
    "fig.write_html('../charts/global_confirmed_cases_rolling_14-Day_average_growth_rate_map.html')"
   ],
   "metadata": {
    "collapsed": false,
    "pycharm": {
     "name": "#%%\n"
    }
   }
  },
  {
   "cell_type": "code",
   "execution_count": 48,
   "outputs": [
    {
     "data": {
      "text/plain": "             Date  Confirmed    today  yesterday\n19010  2020-04-21     811865  27539.0    25517.0\n19011  2020-04-22     840351  28486.0    27539.0\n19012  2020-04-23     869170  28819.0    28486.0\n19013  2020-04-24     905358  36188.0    28819.0\n19014  2020-04-25     938154  32796.0    36188.0\n19015  2020-04-26     965785  27631.0    32796.0\n19016  2020-04-27     988197  22412.0    27631.0\n19017  2020-04-28    1012582  24385.0    22412.0\n19018  2020-04-29    1039909  27327.0    24385.0\n19019  2020-04-30    1069424  29515.0    27327.0\n19020  2020-05-01    1103461  34037.0    29515.0\n19021  2020-05-02    1132539  29078.0    34037.0\n19022  2020-05-03    1158040  25501.0    29078.0\n19023  2020-05-04    1180375  22335.0    25501.0\n19024  2020-05-05    1204351  23976.0    22335.0\n19025  2020-05-06    1229331  24980.0    23976.0\n19026  2020-05-07    1257023  27692.0    24980.0\n19027  2020-05-08    1283929  26906.0    27692.0\n19028  2020-05-09    1309550  25621.0    26906.0\n19029  2020-05-10    1329260  19710.0    25621.0",
      "text/html": "<div>\n<style scoped>\n    .dataframe tbody tr th:only-of-type {\n        vertical-align: middle;\n    }\n\n    .dataframe tbody tr th {\n        vertical-align: top;\n    }\n\n    .dataframe thead th {\n        text-align: right;\n    }\n</style>\n<table border=\"1\" class=\"dataframe\">\n  <thead>\n    <tr style=\"text-align: right;\">\n      <th></th>\n      <th>Date</th>\n      <th>Confirmed</th>\n      <th>today</th>\n      <th>yesterday</th>\n    </tr>\n  </thead>\n  <tbody>\n    <tr>\n      <th>19010</th>\n      <td>2020-04-21</td>\n      <td>811865</td>\n      <td>27539.0</td>\n      <td>25517.0</td>\n    </tr>\n    <tr>\n      <th>19011</th>\n      <td>2020-04-22</td>\n      <td>840351</td>\n      <td>28486.0</td>\n      <td>27539.0</td>\n    </tr>\n    <tr>\n      <th>19012</th>\n      <td>2020-04-23</td>\n      <td>869170</td>\n      <td>28819.0</td>\n      <td>28486.0</td>\n    </tr>\n    <tr>\n      <th>19013</th>\n      <td>2020-04-24</td>\n      <td>905358</td>\n      <td>36188.0</td>\n      <td>28819.0</td>\n    </tr>\n    <tr>\n      <th>19014</th>\n      <td>2020-04-25</td>\n      <td>938154</td>\n      <td>32796.0</td>\n      <td>36188.0</td>\n    </tr>\n    <tr>\n      <th>19015</th>\n      <td>2020-04-26</td>\n      <td>965785</td>\n      <td>27631.0</td>\n      <td>32796.0</td>\n    </tr>\n    <tr>\n      <th>19016</th>\n      <td>2020-04-27</td>\n      <td>988197</td>\n      <td>22412.0</td>\n      <td>27631.0</td>\n    </tr>\n    <tr>\n      <th>19017</th>\n      <td>2020-04-28</td>\n      <td>1012582</td>\n      <td>24385.0</td>\n      <td>22412.0</td>\n    </tr>\n    <tr>\n      <th>19018</th>\n      <td>2020-04-29</td>\n      <td>1039909</td>\n      <td>27327.0</td>\n      <td>24385.0</td>\n    </tr>\n    <tr>\n      <th>19019</th>\n      <td>2020-04-30</td>\n      <td>1069424</td>\n      <td>29515.0</td>\n      <td>27327.0</td>\n    </tr>\n    <tr>\n      <th>19020</th>\n      <td>2020-05-01</td>\n      <td>1103461</td>\n      <td>34037.0</td>\n      <td>29515.0</td>\n    </tr>\n    <tr>\n      <th>19021</th>\n      <td>2020-05-02</td>\n      <td>1132539</td>\n      <td>29078.0</td>\n      <td>34037.0</td>\n    </tr>\n    <tr>\n      <th>19022</th>\n      <td>2020-05-03</td>\n      <td>1158040</td>\n      <td>25501.0</td>\n      <td>29078.0</td>\n    </tr>\n    <tr>\n      <th>19023</th>\n      <td>2020-05-04</td>\n      <td>1180375</td>\n      <td>22335.0</td>\n      <td>25501.0</td>\n    </tr>\n    <tr>\n      <th>19024</th>\n      <td>2020-05-05</td>\n      <td>1204351</td>\n      <td>23976.0</td>\n      <td>22335.0</td>\n    </tr>\n    <tr>\n      <th>19025</th>\n      <td>2020-05-06</td>\n      <td>1229331</td>\n      <td>24980.0</td>\n      <td>23976.0</td>\n    </tr>\n    <tr>\n      <th>19026</th>\n      <td>2020-05-07</td>\n      <td>1257023</td>\n      <td>27692.0</td>\n      <td>24980.0</td>\n    </tr>\n    <tr>\n      <th>19027</th>\n      <td>2020-05-08</td>\n      <td>1283929</td>\n      <td>26906.0</td>\n      <td>27692.0</td>\n    </tr>\n    <tr>\n      <th>19028</th>\n      <td>2020-05-09</td>\n      <td>1309550</td>\n      <td>25621.0</td>\n      <td>26906.0</td>\n    </tr>\n    <tr>\n      <th>19029</th>\n      <td>2020-05-10</td>\n      <td>1329260</td>\n      <td>19710.0</td>\n      <td>25621.0</td>\n    </tr>\n  </tbody>\n</table>\n</div>"
     },
     "execution_count": 48,
     "metadata": {},
     "output_type": "execute_result"
    }
   ],
   "source": [
    "sdn[['Date', 'Confirmed', 'today', 'yesterday']][sdn.Country == 'US'].tail(20)"
   ],
   "metadata": {
    "collapsed": false,
    "pycharm": {
     "name": "#%%\n"
    }
   }
  },
  {
   "cell_type": "code",
   "execution_count": 49,
   "outputs": [],
   "source": [
    "# little data backup never hurt anyone...\n",
    "df.to_csv('../data/scatter_global.csv', index=False)"
   ],
   "metadata": {
    "collapsed": false,
    "pycharm": {
     "name": "#%%\n"
    }
   }
  },
  {
   "cell_type": "markdown",
   "source": [
    "This is using the data from\n",
    "https://covid.ourworldindata.org/data/owid-covid-data.csv for simple case per\n",
    "test analysis."
   ],
   "metadata": {
    "collapsed": false,
    "pycharm": {
     "name": "#%% md\n"
    }
   }
  },
  {
   "cell_type": "code",
   "execution_count": 93,
   "outputs": [
    {
     "data": {
      "application/vnd.plotly.v1+json": {
       "config": {
        "plotlyServerURL": "https://plot.ly"
       },
       "data": [
        {
         "name": "New Tests",
         "opacity": 1,
         "type": "bar",
         "x": [
          "2020-03-01",
          "2020-03-02",
          "2020-03-03",
          "2020-03-04",
          "2020-03-05",
          "2020-03-06",
          "2020-03-07",
          "2020-03-08",
          "2020-03-09",
          "2020-03-10",
          "2020-03-11",
          "2020-03-12",
          "2020-03-13",
          "2020-03-14",
          "2020-03-15",
          "2020-03-16",
          "2020-03-17",
          "2020-03-18",
          "2020-03-19",
          "2020-03-20",
          "2020-03-21",
          "2020-03-22",
          "2020-03-23",
          "2020-03-24",
          "2020-03-25",
          "2020-03-26",
          "2020-03-27",
          "2020-03-28",
          "2020-03-29",
          "2020-03-30",
          "2020-03-31",
          "2020-04-01",
          "2020-04-02",
          "2020-04-03",
          "2020-04-04",
          "2020-04-05",
          "2020-04-06",
          "2020-04-07",
          "2020-04-08",
          "2020-04-09",
          "2020-04-10",
          "2020-04-11",
          "2020-04-12",
          "2020-04-13",
          "2020-04-14",
          "2020-04-15",
          "2020-04-16",
          "2020-04-17",
          "2020-04-18",
          "2020-04-19",
          "2020-04-20",
          "2020-04-21",
          "2020-04-22",
          "2020-04-23",
          "2020-04-24",
          "2020-04-25",
          "2020-04-26",
          "2020-04-27",
          "2020-04-28",
          "2020-04-29",
          "2020-04-30",
          "2020-05-01",
          "2020-05-02",
          "2020-05-03",
          "2020-05-04",
          "2020-05-05",
          "2020-05-06",
          "2020-05-07",
          "2020-05-08",
          "2020-05-09",
          "2020-05-10",
          "2020-05-11"
         ],
         "xaxis": "x",
         "y": [
          null,
          null,
          null,
          null,
          null,
          null,
          null,
          871.0,
          1796.0,
          2412.0,
          3748.0,
          5137.0,
          9056.0,
          4500.0,
          7675.0,
          17663.0,
          15574.0,
          24673.0,
          27400.0,
          36155.0,
          44754.0,
          44602.0,
          57135.0,
          68613.0,
          83487.0,
          100464.0,
          103070.0,
          104366.0,
          88780.0,
          117450.0,
          111094.0,
          107582.0,
          118023.0,
          132232.0,
          228797.0,
          119659.0,
          150730.0,
          152745.0,
          144433.0,
          165833.0,
          157787.0,
          138568.0,
          141705.0,
          132993.0,
          150543.0,
          136706.0,
          162126.0,
          158169.0,
          142337.0,
          160390.0,
          147732.0,
          148110.0,
          314891.0,
          192382.0,
          232101.0,
          276915.0,
          206420.0,
          189358.0,
          202778.0,
          229897.0,
          229599.0,
          296833.0,
          252639.0,
          248125.0,
          232008.0,
          258954.0,
          242465.0,
          318720.0,
          303275.0,
          300842.0,
          null,
          null
         ],
         "yaxis": "y"
        },
        {
         "name": "New Cases",
         "opacity": 1,
         "type": "bar",
         "x": [
          "2020-03-01",
          "2020-03-02",
          "2020-03-03",
          "2020-03-04",
          "2020-03-05",
          "2020-03-06",
          "2020-03-07",
          "2020-03-08",
          "2020-03-09",
          "2020-03-10",
          "2020-03-11",
          "2020-03-12",
          "2020-03-13",
          "2020-03-14",
          "2020-03-15",
          "2020-03-16",
          "2020-03-17",
          "2020-03-18",
          "2020-03-19",
          "2020-03-20",
          "2020-03-21",
          "2020-03-22",
          "2020-03-23",
          "2020-03-24",
          "2020-03-25",
          "2020-03-26",
          "2020-03-27",
          "2020-03-28",
          "2020-03-29",
          "2020-03-30",
          "2020-03-31",
          "2020-04-01",
          "2020-04-02",
          "2020-04-03",
          "2020-04-04",
          "2020-04-05",
          "2020-04-06",
          "2020-04-07",
          "2020-04-08",
          "2020-04-09",
          "2020-04-10",
          "2020-04-11",
          "2020-04-12",
          "2020-04-13",
          "2020-04-14",
          "2020-04-15",
          "2020-04-16",
          "2020-04-17",
          "2020-04-18",
          "2020-04-19",
          "2020-04-20",
          "2020-04-21",
          "2020-04-22",
          "2020-04-23",
          "2020-04-24",
          "2020-04-25",
          "2020-04-26",
          "2020-04-27",
          "2020-04-28",
          "2020-04-29",
          "2020-04-30",
          "2020-05-01",
          "2020-05-02",
          "2020-05-03",
          "2020-05-04",
          "2020-05-05",
          "2020-05-06",
          "2020-05-07",
          "2020-05-08",
          "2020-05-09",
          "2020-05-10",
          "2020-05-11"
         ],
         "xaxis": "x3",
         "y": [
          3,
          20,
          14,
          22,
          34,
          74,
          105,
          95,
          121,
          200,
          271,
          287,
          351,
          511,
          777,
          823,
          887,
          1766,
          2988,
          4835,
          5374,
          7123,
          8459,
          11236,
          8789,
          13963,
          16797,
          18695,
          19979,
          18360,
          21595,
          24998,
          27103,
          28819,
          32425,
          34272,
          25398,
          30561,
          30613,
          33323,
          33901,
          35527,
          28391,
          27620,
          25023,
          26922,
          30148,
          31667,
          30833,
          32922,
          24601,
          28065,
          37289,
          17588,
          26543,
          21352,
          48529,
          26857,
          22541,
          24132,
          27326,
          29917,
          33955,
          29288,
          24972,
          22593,
          23841,
          24128,
          28369,
          26957,
          25612,
          20258
         ],
         "yaxis": "y3"
        },
        {
         "mode": "lines+markers",
         "name": "Cases per test",
         "opacity": 0.6,
         "type": "scatter",
         "x": [
          "2020-03-01",
          "2020-03-02",
          "2020-03-03",
          "2020-03-04",
          "2020-03-05",
          "2020-03-06",
          "2020-03-07",
          "2020-03-08",
          "2020-03-09",
          "2020-03-10",
          "2020-03-11",
          "2020-03-12",
          "2020-03-13",
          "2020-03-14",
          "2020-03-15",
          "2020-03-16",
          "2020-03-17",
          "2020-03-18",
          "2020-03-19",
          "2020-03-20",
          "2020-03-21",
          "2020-03-22",
          "2020-03-23",
          "2020-03-24",
          "2020-03-25",
          "2020-03-26",
          "2020-03-27",
          "2020-03-28",
          "2020-03-29",
          "2020-03-30",
          "2020-03-31",
          "2020-04-01",
          "2020-04-02",
          "2020-04-03",
          "2020-04-04",
          "2020-04-05",
          "2020-04-06",
          "2020-04-07",
          "2020-04-08",
          "2020-04-09",
          "2020-04-10",
          "2020-04-11",
          "2020-04-12",
          "2020-04-13",
          "2020-04-14",
          "2020-04-15",
          "2020-04-16",
          "2020-04-17",
          "2020-04-18",
          "2020-04-19",
          "2020-04-20",
          "2020-04-21",
          "2020-04-22",
          "2020-04-23",
          "2020-04-24",
          "2020-04-25",
          "2020-04-26",
          "2020-04-27",
          "2020-04-28",
          "2020-04-29",
          "2020-04-30",
          "2020-05-01",
          "2020-05-02",
          "2020-05-03",
          "2020-05-04",
          "2020-05-05",
          "2020-05-06",
          "2020-05-07",
          "2020-05-08",
          "2020-05-09",
          "2020-05-10",
          "2020-05-11"
         ],
         "xaxis": "x2",
         "y": [
          null,
          null,
          null,
          null,
          null,
          null,
          null,
          0.10907003444316878,
          0.06737193763919821,
          0.08291873963515754,
          0.07230522945570972,
          0.055869184348841736,
          0.03875883392226148,
          0.11355555555555556,
          0.10123778501628665,
          0.04659457623280303,
          0.056953897521510206,
          0.071576216917278,
          0.10905109489051094,
          0.1337297745816623,
          0.12007865218751397,
          0.1597013586834671,
          0.14805285726787434,
          0.16375905440659932,
          0.10527387497454693,
          0.13898510909380474,
          0.16296691568836713,
          0.1791292183278079,
          0.22503942329353457,
          0.15632183908045977,
          0.19438493528003312,
          0.23236229108958747,
          0.22964168001152319,
          0.2179427067578196,
          0.14171951555308854,
          0.2864138928120743,
          0.16849996682810323,
          0.2000785623097319,
          0.21195294704118864,
          0.20094311747360297,
          0.21485293465241115,
          0.2563867559609722,
          0.20035284570057513,
          0.2076801034640921,
          0.16621828979095674,
          0.19693356546164761,
          0.18595413443864647,
          0.20020990206677666,
          0.21661971237274918,
          0.20526217345221023,
          0.16652451736929033,
          0.1894875430423334,
          0.11841875442613475,
          0.09142227443315903,
          0.11435969685611005,
          0.07710669338966832,
          0.23509834318380002,
          0.14183187401641337,
          0.1111609740701654,
          0.10496874687359992,
          0.11901619780573958,
          0.10078731138384209,
          0.13440126029631214,
          0.11803727959697732,
          0.10763421950967209,
          0.08724715586552052,
          0.09832759367331367,
          0.07570281124497992,
          0.09354216470200313,
          0.08960517480936837,
          null,
          null
         ],
         "yaxis": "y2"
        },
        {
         "name": "New Tests (lower)",
         "opacity": 1,
         "type": "bar",
         "x": [
          "2020-03-01",
          "2020-03-02",
          "2020-03-03",
          "2020-03-04",
          "2020-03-05",
          "2020-03-06",
          "2020-03-07",
          "2020-03-08",
          "2020-03-09",
          "2020-03-10",
          "2020-03-11",
          "2020-03-12",
          "2020-03-13",
          "2020-03-14",
          "2020-03-15",
          "2020-03-16",
          "2020-03-17",
          "2020-03-18",
          "2020-03-19",
          "2020-03-20",
          "2020-03-21",
          "2020-03-22",
          "2020-03-23",
          "2020-03-24",
          "2020-03-25",
          "2020-03-26",
          "2020-03-27",
          "2020-03-28",
          "2020-03-29",
          "2020-03-30",
          "2020-03-31",
          "2020-04-01",
          "2020-04-02",
          "2020-04-03",
          "2020-04-04",
          "2020-04-05",
          "2020-04-06",
          "2020-04-07",
          "2020-04-08",
          "2020-04-09",
          "2020-04-10",
          "2020-04-11",
          "2020-04-12",
          "2020-04-13",
          "2020-04-14",
          "2020-04-15",
          "2020-04-16",
          "2020-04-17",
          "2020-04-18",
          "2020-04-19",
          "2020-04-20",
          "2020-04-21",
          "2020-04-22",
          "2020-04-23",
          "2020-04-24",
          "2020-04-25",
          "2020-04-26",
          "2020-04-27",
          "2020-04-28",
          "2020-04-29",
          "2020-04-30",
          "2020-05-01",
          "2020-05-02",
          "2020-05-03",
          "2020-05-04",
          "2020-05-05",
          "2020-05-06",
          "2020-05-07",
          "2020-05-08",
          "2020-05-09",
          "2020-05-10",
          "2020-05-11"
         ],
         "xaxis": "x4",
         "y": [
          null,
          null,
          null,
          null,
          null,
          null,
          null,
          871.0,
          1796.0,
          2412.0,
          3748.0,
          5137.0,
          9056.0,
          4500.0,
          7675.0,
          17663.0,
          15574.0,
          24673.0,
          27400.0,
          36155.0,
          44754.0,
          44602.0,
          57135.0,
          68613.0,
          83487.0,
          100464.0,
          103070.0,
          104366.0,
          88780.0,
          117450.0,
          111094.0,
          107582.0,
          118023.0,
          132232.0,
          228797.0,
          119659.0,
          150730.0,
          152745.0,
          144433.0,
          165833.0,
          157787.0,
          138568.0,
          141705.0,
          132993.0,
          150543.0,
          136706.0,
          162126.0,
          158169.0,
          142337.0,
          160390.0,
          147732.0,
          148110.0,
          314891.0,
          192382.0,
          232101.0,
          276915.0,
          206420.0,
          189358.0,
          202778.0,
          229897.0,
          229599.0,
          296833.0,
          252639.0,
          248125.0,
          232008.0,
          258954.0,
          242465.0,
          318720.0,
          303275.0,
          300842.0,
          null,
          null
         ],
         "yaxis": "y4"
        },
        {
         "name": "New Cases (lower)",
         "opacity": 1,
         "type": "bar",
         "x": [
          "2020-03-01",
          "2020-03-02",
          "2020-03-03",
          "2020-03-04",
          "2020-03-05",
          "2020-03-06",
          "2020-03-07",
          "2020-03-08",
          "2020-03-09",
          "2020-03-10",
          "2020-03-11",
          "2020-03-12",
          "2020-03-13",
          "2020-03-14",
          "2020-03-15",
          "2020-03-16",
          "2020-03-17",
          "2020-03-18",
          "2020-03-19",
          "2020-03-20",
          "2020-03-21",
          "2020-03-22",
          "2020-03-23",
          "2020-03-24",
          "2020-03-25",
          "2020-03-26",
          "2020-03-27",
          "2020-03-28",
          "2020-03-29",
          "2020-03-30",
          "2020-03-31",
          "2020-04-01",
          "2020-04-02",
          "2020-04-03",
          "2020-04-04",
          "2020-04-05",
          "2020-04-06",
          "2020-04-07",
          "2020-04-08",
          "2020-04-09",
          "2020-04-10",
          "2020-04-11",
          "2020-04-12",
          "2020-04-13",
          "2020-04-14",
          "2020-04-15",
          "2020-04-16",
          "2020-04-17",
          "2020-04-18",
          "2020-04-19",
          "2020-04-20",
          "2020-04-21",
          "2020-04-22",
          "2020-04-23",
          "2020-04-24",
          "2020-04-25",
          "2020-04-26",
          "2020-04-27",
          "2020-04-28",
          "2020-04-29",
          "2020-04-30",
          "2020-05-01",
          "2020-05-02",
          "2020-05-03",
          "2020-05-04",
          "2020-05-05",
          "2020-05-06",
          "2020-05-07",
          "2020-05-08",
          "2020-05-09",
          "2020-05-10",
          "2020-05-11"
         ],
         "xaxis": "x4",
         "y": [
          3,
          20,
          14,
          22,
          34,
          74,
          105,
          95,
          121,
          200,
          271,
          287,
          351,
          511,
          777,
          823,
          887,
          1766,
          2988,
          4835,
          5374,
          7123,
          8459,
          11236,
          8789,
          13963,
          16797,
          18695,
          19979,
          18360,
          21595,
          24998,
          27103,
          28819,
          32425,
          34272,
          25398,
          30561,
          30613,
          33323,
          33901,
          35527,
          28391,
          27620,
          25023,
          26922,
          30148,
          31667,
          30833,
          32922,
          24601,
          28065,
          37289,
          17588,
          26543,
          21352,
          48529,
          26857,
          22541,
          24132,
          27326,
          29917,
          33955,
          29288,
          24972,
          22593,
          23841,
          24128,
          28369,
          26957,
          25612,
          20258
         ],
         "yaxis": "y4"
        },
        {
         "mode": "lines+markers",
         "name": "Cases per test (lower)",
         "opacity": 0.6,
         "type": "scatter",
         "x": [
          "2020-03-01",
          "2020-03-02",
          "2020-03-03",
          "2020-03-04",
          "2020-03-05",
          "2020-03-06",
          "2020-03-07",
          "2020-03-08",
          "2020-03-09",
          "2020-03-10",
          "2020-03-11",
          "2020-03-12",
          "2020-03-13",
          "2020-03-14",
          "2020-03-15",
          "2020-03-16",
          "2020-03-17",
          "2020-03-18",
          "2020-03-19",
          "2020-03-20",
          "2020-03-21",
          "2020-03-22",
          "2020-03-23",
          "2020-03-24",
          "2020-03-25",
          "2020-03-26",
          "2020-03-27",
          "2020-03-28",
          "2020-03-29",
          "2020-03-30",
          "2020-03-31",
          "2020-04-01",
          "2020-04-02",
          "2020-04-03",
          "2020-04-04",
          "2020-04-05",
          "2020-04-06",
          "2020-04-07",
          "2020-04-08",
          "2020-04-09",
          "2020-04-10",
          "2020-04-11",
          "2020-04-12",
          "2020-04-13",
          "2020-04-14",
          "2020-04-15",
          "2020-04-16",
          "2020-04-17",
          "2020-04-18",
          "2020-04-19",
          "2020-04-20",
          "2020-04-21",
          "2020-04-22",
          "2020-04-23",
          "2020-04-24",
          "2020-04-25",
          "2020-04-26",
          "2020-04-27",
          "2020-04-28",
          "2020-04-29",
          "2020-04-30",
          "2020-05-01",
          "2020-05-02",
          "2020-05-03",
          "2020-05-04",
          "2020-05-05",
          "2020-05-06",
          "2020-05-07",
          "2020-05-08",
          "2020-05-09",
          "2020-05-10",
          "2020-05-11"
         ],
         "xaxis": "x4",
         "y": [
          null,
          null,
          null,
          null,
          null,
          null,
          null,
          0.10907003444316878,
          0.06737193763919821,
          0.08291873963515754,
          0.07230522945570972,
          0.055869184348841736,
          0.03875883392226148,
          0.11355555555555556,
          0.10123778501628665,
          0.04659457623280303,
          0.056953897521510206,
          0.071576216917278,
          0.10905109489051094,
          0.1337297745816623,
          0.12007865218751397,
          0.1597013586834671,
          0.14805285726787434,
          0.16375905440659932,
          0.10527387497454693,
          0.13898510909380474,
          0.16296691568836713,
          0.1791292183278079,
          0.22503942329353457,
          0.15632183908045977,
          0.19438493528003312,
          0.23236229108958747,
          0.22964168001152319,
          0.2179427067578196,
          0.14171951555308854,
          0.2864138928120743,
          0.16849996682810323,
          0.2000785623097319,
          0.21195294704118864,
          0.20094311747360297,
          0.21485293465241115,
          0.2563867559609722,
          0.20035284570057513,
          0.2076801034640921,
          0.16621828979095674,
          0.19693356546164761,
          0.18595413443864647,
          0.20020990206677666,
          0.21661971237274918,
          0.20526217345221023,
          0.16652451736929033,
          0.1894875430423334,
          0.11841875442613475,
          0.09142227443315903,
          0.11435969685611005,
          0.07710669338966832,
          0.23509834318380002,
          0.14183187401641337,
          0.1111609740701654,
          0.10496874687359992,
          0.11901619780573958,
          0.10078731138384209,
          0.13440126029631214,
          0.11803727959697732,
          0.10763421950967209,
          0.08724715586552052,
          0.09832759367331367,
          0.07570281124497992,
          0.09354216470200313,
          0.08960517480936837,
          null,
          null
         ],
         "yaxis": "y5"
        }
       ],
       "layout": {
        "barmode": "group",
        "template": {
         "data": {
          "bar": [
           {
            "error_x": {
             "color": "#2a3f5f"
            },
            "error_y": {
             "color": "#2a3f5f"
            },
            "marker": {
             "line": {
              "color": "#E5ECF6",
              "width": 0.5
             }
            },
            "type": "bar"
           }
          ],
          "barpolar": [
           {
            "marker": {
             "line": {
              "color": "#E5ECF6",
              "width": 0.5
             }
            },
            "type": "barpolar"
           }
          ],
          "carpet": [
           {
            "aaxis": {
             "endlinecolor": "#2a3f5f",
             "gridcolor": "white",
             "linecolor": "white",
             "minorgridcolor": "white",
             "startlinecolor": "#2a3f5f"
            },
            "baxis": {
             "endlinecolor": "#2a3f5f",
             "gridcolor": "white",
             "linecolor": "white",
             "minorgridcolor": "white",
             "startlinecolor": "#2a3f5f"
            },
            "type": "carpet"
           }
          ],
          "choropleth": [
           {
            "colorbar": {
             "outlinewidth": 0,
             "ticks": ""
            },
            "type": "choropleth"
           }
          ],
          "contour": [
           {
            "colorbar": {
             "outlinewidth": 0,
             "ticks": ""
            },
            "colorscale": [
             [
              0.0,
              "#0d0887"
             ],
             [
              0.1111111111111111,
              "#46039f"
             ],
             [
              0.2222222222222222,
              "#7201a8"
             ],
             [
              0.3333333333333333,
              "#9c179e"
             ],
             [
              0.4444444444444444,
              "#bd3786"
             ],
             [
              0.5555555555555556,
              "#d8576b"
             ],
             [
              0.6666666666666666,
              "#ed7953"
             ],
             [
              0.7777777777777778,
              "#fb9f3a"
             ],
             [
              0.8888888888888888,
              "#fdca26"
             ],
             [
              1.0,
              "#f0f921"
             ]
            ],
            "type": "contour"
           }
          ],
          "contourcarpet": [
           {
            "colorbar": {
             "outlinewidth": 0,
             "ticks": ""
            },
            "type": "contourcarpet"
           }
          ],
          "heatmap": [
           {
            "colorbar": {
             "outlinewidth": 0,
             "ticks": ""
            },
            "colorscale": [
             [
              0.0,
              "#0d0887"
             ],
             [
              0.1111111111111111,
              "#46039f"
             ],
             [
              0.2222222222222222,
              "#7201a8"
             ],
             [
              0.3333333333333333,
              "#9c179e"
             ],
             [
              0.4444444444444444,
              "#bd3786"
             ],
             [
              0.5555555555555556,
              "#d8576b"
             ],
             [
              0.6666666666666666,
              "#ed7953"
             ],
             [
              0.7777777777777778,
              "#fb9f3a"
             ],
             [
              0.8888888888888888,
              "#fdca26"
             ],
             [
              1.0,
              "#f0f921"
             ]
            ],
            "type": "heatmap"
           }
          ],
          "heatmapgl": [
           {
            "colorbar": {
             "outlinewidth": 0,
             "ticks": ""
            },
            "colorscale": [
             [
              0.0,
              "#0d0887"
             ],
             [
              0.1111111111111111,
              "#46039f"
             ],
             [
              0.2222222222222222,
              "#7201a8"
             ],
             [
              0.3333333333333333,
              "#9c179e"
             ],
             [
              0.4444444444444444,
              "#bd3786"
             ],
             [
              0.5555555555555556,
              "#d8576b"
             ],
             [
              0.6666666666666666,
              "#ed7953"
             ],
             [
              0.7777777777777778,
              "#fb9f3a"
             ],
             [
              0.8888888888888888,
              "#fdca26"
             ],
             [
              1.0,
              "#f0f921"
             ]
            ],
            "type": "heatmapgl"
           }
          ],
          "histogram": [
           {
            "marker": {
             "colorbar": {
              "outlinewidth": 0,
              "ticks": ""
             }
            },
            "type": "histogram"
           }
          ],
          "histogram2d": [
           {
            "colorbar": {
             "outlinewidth": 0,
             "ticks": ""
            },
            "colorscale": [
             [
              0.0,
              "#0d0887"
             ],
             [
              0.1111111111111111,
              "#46039f"
             ],
             [
              0.2222222222222222,
              "#7201a8"
             ],
             [
              0.3333333333333333,
              "#9c179e"
             ],
             [
              0.4444444444444444,
              "#bd3786"
             ],
             [
              0.5555555555555556,
              "#d8576b"
             ],
             [
              0.6666666666666666,
              "#ed7953"
             ],
             [
              0.7777777777777778,
              "#fb9f3a"
             ],
             [
              0.8888888888888888,
              "#fdca26"
             ],
             [
              1.0,
              "#f0f921"
             ]
            ],
            "type": "histogram2d"
           }
          ],
          "histogram2dcontour": [
           {
            "colorbar": {
             "outlinewidth": 0,
             "ticks": ""
            },
            "colorscale": [
             [
              0.0,
              "#0d0887"
             ],
             [
              0.1111111111111111,
              "#46039f"
             ],
             [
              0.2222222222222222,
              "#7201a8"
             ],
             [
              0.3333333333333333,
              "#9c179e"
             ],
             [
              0.4444444444444444,
              "#bd3786"
             ],
             [
              0.5555555555555556,
              "#d8576b"
             ],
             [
              0.6666666666666666,
              "#ed7953"
             ],
             [
              0.7777777777777778,
              "#fb9f3a"
             ],
             [
              0.8888888888888888,
              "#fdca26"
             ],
             [
              1.0,
              "#f0f921"
             ]
            ],
            "type": "histogram2dcontour"
           }
          ],
          "mesh3d": [
           {
            "colorbar": {
             "outlinewidth": 0,
             "ticks": ""
            },
            "type": "mesh3d"
           }
          ],
          "parcoords": [
           {
            "line": {
             "colorbar": {
              "outlinewidth": 0,
              "ticks": ""
             }
            },
            "type": "parcoords"
           }
          ],
          "pie": [
           {
            "automargin": true,
            "type": "pie"
           }
          ],
          "scatter": [
           {
            "marker": {
             "colorbar": {
              "outlinewidth": 0,
              "ticks": ""
             }
            },
            "type": "scatter"
           }
          ],
          "scatter3d": [
           {
            "line": {
             "colorbar": {
              "outlinewidth": 0,
              "ticks": ""
             }
            },
            "marker": {
             "colorbar": {
              "outlinewidth": 0,
              "ticks": ""
             }
            },
            "type": "scatter3d"
           }
          ],
          "scattercarpet": [
           {
            "marker": {
             "colorbar": {
              "outlinewidth": 0,
              "ticks": ""
             }
            },
            "type": "scattercarpet"
           }
          ],
          "scattergeo": [
           {
            "marker": {
             "colorbar": {
              "outlinewidth": 0,
              "ticks": ""
             }
            },
            "type": "scattergeo"
           }
          ],
          "scattergl": [
           {
            "marker": {
             "colorbar": {
              "outlinewidth": 0,
              "ticks": ""
             }
            },
            "type": "scattergl"
           }
          ],
          "scattermapbox": [
           {
            "marker": {
             "colorbar": {
              "outlinewidth": 0,
              "ticks": ""
             }
            },
            "type": "scattermapbox"
           }
          ],
          "scatterpolar": [
           {
            "marker": {
             "colorbar": {
              "outlinewidth": 0,
              "ticks": ""
             }
            },
            "type": "scatterpolar"
           }
          ],
          "scatterpolargl": [
           {
            "marker": {
             "colorbar": {
              "outlinewidth": 0,
              "ticks": ""
             }
            },
            "type": "scatterpolargl"
           }
          ],
          "scatterternary": [
           {
            "marker": {
             "colorbar": {
              "outlinewidth": 0,
              "ticks": ""
             }
            },
            "type": "scatterternary"
           }
          ],
          "surface": [
           {
            "colorbar": {
             "outlinewidth": 0,
             "ticks": ""
            },
            "colorscale": [
             [
              0.0,
              "#0d0887"
             ],
             [
              0.1111111111111111,
              "#46039f"
             ],
             [
              0.2222222222222222,
              "#7201a8"
             ],
             [
              0.3333333333333333,
              "#9c179e"
             ],
             [
              0.4444444444444444,
              "#bd3786"
             ],
             [
              0.5555555555555556,
              "#d8576b"
             ],
             [
              0.6666666666666666,
              "#ed7953"
             ],
             [
              0.7777777777777778,
              "#fb9f3a"
             ],
             [
              0.8888888888888888,
              "#fdca26"
             ],
             [
              1.0,
              "#f0f921"
             ]
            ],
            "type": "surface"
           }
          ],
          "table": [
           {
            "cells": {
             "fill": {
              "color": "#EBF0F8"
             },
             "line": {
              "color": "white"
             }
            },
            "header": {
             "fill": {
              "color": "#C8D4E3"
             },
             "line": {
              "color": "white"
             }
            },
            "type": "table"
           }
          ]
         },
         "layout": {
          "annotationdefaults": {
           "arrowcolor": "#2a3f5f",
           "arrowhead": 0,
           "arrowwidth": 1
          },
          "coloraxis": {
           "colorbar": {
            "outlinewidth": 0,
            "ticks": ""
           }
          },
          "colorscale": {
           "diverging": [
            [
             0,
             "#8e0152"
            ],
            [
             0.1,
             "#c51b7d"
            ],
            [
             0.2,
             "#de77ae"
            ],
            [
             0.3,
             "#f1b6da"
            ],
            [
             0.4,
             "#fde0ef"
            ],
            [
             0.5,
             "#f7f7f7"
            ],
            [
             0.6,
             "#e6f5d0"
            ],
            [
             0.7,
             "#b8e186"
            ],
            [
             0.8,
             "#7fbc41"
            ],
            [
             0.9,
             "#4d9221"
            ],
            [
             1,
             "#276419"
            ]
           ],
           "sequential": [
            [
             0.0,
             "#0d0887"
            ],
            [
             0.1111111111111111,
             "#46039f"
            ],
            [
             0.2222222222222222,
             "#7201a8"
            ],
            [
             0.3333333333333333,
             "#9c179e"
            ],
            [
             0.4444444444444444,
             "#bd3786"
            ],
            [
             0.5555555555555556,
             "#d8576b"
            ],
            [
             0.6666666666666666,
             "#ed7953"
            ],
            [
             0.7777777777777778,
             "#fb9f3a"
            ],
            [
             0.8888888888888888,
             "#fdca26"
            ],
            [
             1.0,
             "#f0f921"
            ]
           ],
           "sequentialminus": [
            [
             0.0,
             "#0d0887"
            ],
            [
             0.1111111111111111,
             "#46039f"
            ],
            [
             0.2222222222222222,
             "#7201a8"
            ],
            [
             0.3333333333333333,
             "#9c179e"
            ],
            [
             0.4444444444444444,
             "#bd3786"
            ],
            [
             0.5555555555555556,
             "#d8576b"
            ],
            [
             0.6666666666666666,
             "#ed7953"
            ],
            [
             0.7777777777777778,
             "#fb9f3a"
            ],
            [
             0.8888888888888888,
             "#fdca26"
            ],
            [
             1.0,
             "#f0f921"
            ]
           ]
          },
          "colorway": [
           "#636efa",
           "#EF553B",
           "#00cc96",
           "#ab63fa",
           "#FFA15A",
           "#19d3f3",
           "#FF6692",
           "#B6E880",
           "#FF97FF",
           "#FECB52"
          ],
          "font": {
           "color": "#2a3f5f"
          },
          "geo": {
           "bgcolor": "white",
           "lakecolor": "white",
           "landcolor": "#E5ECF6",
           "showlakes": true,
           "showland": true,
           "subunitcolor": "white"
          },
          "hoverlabel": {
           "align": "left"
          },
          "hovermode": "closest",
          "mapbox": {
           "style": "light"
          },
          "paper_bgcolor": "white",
          "plot_bgcolor": "#E5ECF6",
          "polar": {
           "angularaxis": {
            "gridcolor": "white",
            "linecolor": "white",
            "ticks": ""
           },
           "bgcolor": "#E5ECF6",
           "radialaxis": {
            "gridcolor": "white",
            "linecolor": "white",
            "ticks": ""
           }
          },
          "scene": {
           "xaxis": {
            "backgroundcolor": "#E5ECF6",
            "gridcolor": "white",
            "gridwidth": 2,
            "linecolor": "white",
            "showbackground": true,
            "ticks": "",
            "zerolinecolor": "white"
           },
           "yaxis": {
            "backgroundcolor": "#E5ECF6",
            "gridcolor": "white",
            "gridwidth": 2,
            "linecolor": "white",
            "showbackground": true,
            "ticks": "",
            "zerolinecolor": "white"
           },
           "zaxis": {
            "backgroundcolor": "#E5ECF6",
            "gridcolor": "white",
            "gridwidth": 2,
            "linecolor": "white",
            "showbackground": true,
            "ticks": "",
            "zerolinecolor": "white"
           }
          },
          "shapedefaults": {
           "line": {
            "color": "#2a3f5f"
           }
          },
          "ternary": {
           "aaxis": {
            "gridcolor": "white",
            "linecolor": "white",
            "ticks": ""
           },
           "baxis": {
            "gridcolor": "white",
            "linecolor": "white",
            "ticks": ""
           },
           "bgcolor": "#E5ECF6",
           "caxis": {
            "gridcolor": "white",
            "linecolor": "white",
            "ticks": ""
           }
          },
          "title": {
           "x": 0.05
          },
          "xaxis": {
           "automargin": true,
           "gridcolor": "white",
           "linecolor": "white",
           "ticks": "",
           "title": {
            "standoff": 15
           },
           "zerolinecolor": "white",
           "zerolinewidth": 2
          },
          "yaxis": {
           "automargin": true,
           "gridcolor": "white",
           "linecolor": "white",
           "ticks": "",
           "title": {
            "standoff": 15
           },
           "zerolinecolor": "white",
           "zerolinewidth": 2
          }
         }
        },
        "title": {
         "text": "Comparison of New Cases and Tests Administered<br>Source: <a href=\"https://github.com/owid/covid-19-data/tree/master/public/data\">Data on COVID-19 (coronavirus) by Our World in Data</a> (<a href=\"https://covid.ourworldindata.org/data/owid-covid-data.csv\">CSV file</a>)"
        },
        "xaxis": {
         "anchor": "y",
         "domain": [
          0.0,
          0.37
         ]
        },
        "xaxis2": {
         "anchor": "y2",
         "domain": [
          0.5700000000000001,
          0.9400000000000001
         ]
        },
        "xaxis3": {
         "anchor": "y3",
         "domain": [
          0.0,
          0.37
         ]
        },
        "xaxis4": {
         "anchor": "y4",
         "domain": [
          0.0,
          0.9400000000000001
         ]
        },
        "yaxis": {
         "anchor": "x",
         "domain": [
          0.7333333333333333,
          1.0
         ],
         "title": {
          "text": "New Tests"
         }
        },
        "yaxis2": {
         "anchor": "x2",
         "domain": [
          0.36666666666666664,
          1.0
         ],
         "title": {
          "text": "New Cases per Test"
         }
        },
        "yaxis3": {
         "anchor": "x3",
         "domain": [
          0.36666666666666664,
          0.6333333333333333
         ],
         "title": {
          "text": "New Cases"
         }
        },
        "yaxis4": {
         "anchor": "x4",
         "domain": [
          0.0,
          0.26666666666666666
         ],
         "title": {
          "text": "New Cases/Tests"
         }
        },
        "yaxis5": {
         "anchor": "x4",
         "overlaying": "y4",
         "side": "right",
         "title": {
          "text": "New Cases per Test"
         }
        }
       }
      },
      "text/html": "<div>\n        \n        \n            <div id=\"8579bc26-29a0-42ce-b9a0-829d0217f9a4\" class=\"plotly-graph-div\" style=\"height:525px; width:100%;\"></div>\n            <script type=\"text/javascript\">\n                require([\"plotly\"], function(Plotly) {\n                    window.PLOTLYENV=window.PLOTLYENV || {};\n                    \n                if (document.getElementById(\"8579bc26-29a0-42ce-b9a0-829d0217f9a4\")) {\n                    Plotly.newPlot(\n                        '8579bc26-29a0-42ce-b9a0-829d0217f9a4',\n                        [{\"name\": \"New Tests\", \"opacity\": 1, \"type\": \"bar\", \"x\": [\"2020-03-01\", \"2020-03-02\", \"2020-03-03\", \"2020-03-04\", \"2020-03-05\", \"2020-03-06\", \"2020-03-07\", \"2020-03-08\", \"2020-03-09\", \"2020-03-10\", \"2020-03-11\", \"2020-03-12\", \"2020-03-13\", \"2020-03-14\", \"2020-03-15\", \"2020-03-16\", \"2020-03-17\", \"2020-03-18\", \"2020-03-19\", \"2020-03-20\", \"2020-03-21\", \"2020-03-22\", \"2020-03-23\", \"2020-03-24\", \"2020-03-25\", \"2020-03-26\", \"2020-03-27\", \"2020-03-28\", \"2020-03-29\", \"2020-03-30\", \"2020-03-31\", \"2020-04-01\", \"2020-04-02\", \"2020-04-03\", \"2020-04-04\", \"2020-04-05\", \"2020-04-06\", \"2020-04-07\", \"2020-04-08\", \"2020-04-09\", \"2020-04-10\", \"2020-04-11\", \"2020-04-12\", \"2020-04-13\", \"2020-04-14\", \"2020-04-15\", \"2020-04-16\", \"2020-04-17\", \"2020-04-18\", \"2020-04-19\", \"2020-04-20\", \"2020-04-21\", \"2020-04-22\", \"2020-04-23\", \"2020-04-24\", \"2020-04-25\", \"2020-04-26\", \"2020-04-27\", \"2020-04-28\", \"2020-04-29\", \"2020-04-30\", \"2020-05-01\", \"2020-05-02\", \"2020-05-03\", \"2020-05-04\", \"2020-05-05\", \"2020-05-06\", \"2020-05-07\", \"2020-05-08\", \"2020-05-09\", \"2020-05-10\", \"2020-05-11\"], \"xaxis\": \"x\", \"y\": [null, null, null, null, null, null, null, 871.0, 1796.0, 2412.0, 3748.0, 5137.0, 9056.0, 4500.0, 7675.0, 17663.0, 15574.0, 24673.0, 27400.0, 36155.0, 44754.0, 44602.0, 57135.0, 68613.0, 83487.0, 100464.0, 103070.0, 104366.0, 88780.0, 117450.0, 111094.0, 107582.0, 118023.0, 132232.0, 228797.0, 119659.0, 150730.0, 152745.0, 144433.0, 165833.0, 157787.0, 138568.0, 141705.0, 132993.0, 150543.0, 136706.0, 162126.0, 158169.0, 142337.0, 160390.0, 147732.0, 148110.0, 314891.0, 192382.0, 232101.0, 276915.0, 206420.0, 189358.0, 202778.0, 229897.0, 229599.0, 296833.0, 252639.0, 248125.0, 232008.0, 258954.0, 242465.0, 318720.0, 303275.0, 300842.0, null, null], \"yaxis\": \"y\"}, {\"name\": \"New Cases\", \"opacity\": 1, \"type\": \"bar\", \"x\": [\"2020-03-01\", \"2020-03-02\", \"2020-03-03\", \"2020-03-04\", \"2020-03-05\", \"2020-03-06\", \"2020-03-07\", \"2020-03-08\", \"2020-03-09\", \"2020-03-10\", \"2020-03-11\", \"2020-03-12\", \"2020-03-13\", \"2020-03-14\", \"2020-03-15\", \"2020-03-16\", \"2020-03-17\", \"2020-03-18\", \"2020-03-19\", \"2020-03-20\", \"2020-03-21\", \"2020-03-22\", \"2020-03-23\", \"2020-03-24\", \"2020-03-25\", \"2020-03-26\", \"2020-03-27\", \"2020-03-28\", \"2020-03-29\", \"2020-03-30\", \"2020-03-31\", \"2020-04-01\", \"2020-04-02\", \"2020-04-03\", \"2020-04-04\", \"2020-04-05\", \"2020-04-06\", \"2020-04-07\", \"2020-04-08\", \"2020-04-09\", \"2020-04-10\", \"2020-04-11\", \"2020-04-12\", \"2020-04-13\", \"2020-04-14\", \"2020-04-15\", \"2020-04-16\", \"2020-04-17\", \"2020-04-18\", \"2020-04-19\", \"2020-04-20\", \"2020-04-21\", \"2020-04-22\", \"2020-04-23\", \"2020-04-24\", \"2020-04-25\", \"2020-04-26\", \"2020-04-27\", \"2020-04-28\", \"2020-04-29\", \"2020-04-30\", \"2020-05-01\", \"2020-05-02\", \"2020-05-03\", \"2020-05-04\", \"2020-05-05\", \"2020-05-06\", \"2020-05-07\", \"2020-05-08\", \"2020-05-09\", \"2020-05-10\", \"2020-05-11\"], \"xaxis\": \"x3\", \"y\": [3, 20, 14, 22, 34, 74, 105, 95, 121, 200, 271, 287, 351, 511, 777, 823, 887, 1766, 2988, 4835, 5374, 7123, 8459, 11236, 8789, 13963, 16797, 18695, 19979, 18360, 21595, 24998, 27103, 28819, 32425, 34272, 25398, 30561, 30613, 33323, 33901, 35527, 28391, 27620, 25023, 26922, 30148, 31667, 30833, 32922, 24601, 28065, 37289, 17588, 26543, 21352, 48529, 26857, 22541, 24132, 27326, 29917, 33955, 29288, 24972, 22593, 23841, 24128, 28369, 26957, 25612, 20258], \"yaxis\": \"y3\"}, {\"mode\": \"lines+markers\", \"name\": \"Cases per test\", \"opacity\": 0.6, \"type\": \"scatter\", \"x\": [\"2020-03-01\", \"2020-03-02\", \"2020-03-03\", \"2020-03-04\", \"2020-03-05\", \"2020-03-06\", \"2020-03-07\", \"2020-03-08\", \"2020-03-09\", \"2020-03-10\", \"2020-03-11\", \"2020-03-12\", \"2020-03-13\", \"2020-03-14\", \"2020-03-15\", \"2020-03-16\", \"2020-03-17\", \"2020-03-18\", \"2020-03-19\", \"2020-03-20\", \"2020-03-21\", \"2020-03-22\", \"2020-03-23\", \"2020-03-24\", \"2020-03-25\", \"2020-03-26\", \"2020-03-27\", \"2020-03-28\", \"2020-03-29\", \"2020-03-30\", \"2020-03-31\", \"2020-04-01\", \"2020-04-02\", \"2020-04-03\", \"2020-04-04\", \"2020-04-05\", \"2020-04-06\", \"2020-04-07\", \"2020-04-08\", \"2020-04-09\", \"2020-04-10\", \"2020-04-11\", \"2020-04-12\", \"2020-04-13\", \"2020-04-14\", \"2020-04-15\", \"2020-04-16\", \"2020-04-17\", \"2020-04-18\", \"2020-04-19\", \"2020-04-20\", \"2020-04-21\", \"2020-04-22\", \"2020-04-23\", \"2020-04-24\", \"2020-04-25\", \"2020-04-26\", \"2020-04-27\", \"2020-04-28\", \"2020-04-29\", \"2020-04-30\", \"2020-05-01\", \"2020-05-02\", \"2020-05-03\", \"2020-05-04\", \"2020-05-05\", \"2020-05-06\", \"2020-05-07\", \"2020-05-08\", \"2020-05-09\", \"2020-05-10\", \"2020-05-11\"], \"xaxis\": \"x2\", \"y\": [null, null, null, null, null, null, null, 0.10907003444316878, 0.06737193763919821, 0.08291873963515754, 0.07230522945570972, 0.055869184348841736, 0.03875883392226148, 0.11355555555555556, 0.10123778501628665, 0.04659457623280303, 0.056953897521510206, 0.071576216917278, 0.10905109489051094, 0.1337297745816623, 0.12007865218751397, 0.1597013586834671, 0.14805285726787434, 0.16375905440659932, 0.10527387497454693, 0.13898510909380474, 0.16296691568836713, 0.1791292183278079, 0.22503942329353457, 0.15632183908045977, 0.19438493528003312, 0.23236229108958747, 0.22964168001152319, 0.2179427067578196, 0.14171951555308854, 0.2864138928120743, 0.16849996682810323, 0.2000785623097319, 0.21195294704118864, 0.20094311747360297, 0.21485293465241115, 0.2563867559609722, 0.20035284570057513, 0.2076801034640921, 0.16621828979095674, 0.19693356546164761, 0.18595413443864647, 0.20020990206677666, 0.21661971237274918, 0.20526217345221023, 0.16652451736929033, 0.1894875430423334, 0.11841875442613475, 0.09142227443315903, 0.11435969685611005, 0.07710669338966832, 0.23509834318380002, 0.14183187401641337, 0.1111609740701654, 0.10496874687359992, 0.11901619780573958, 0.10078731138384209, 0.13440126029631214, 0.11803727959697732, 0.10763421950967209, 0.08724715586552052, 0.09832759367331367, 0.07570281124497992, 0.09354216470200313, 0.08960517480936837, null, null], \"yaxis\": \"y2\"}, {\"name\": \"New Tests (lower)\", \"opacity\": 1, \"type\": \"bar\", \"x\": [\"2020-03-01\", \"2020-03-02\", \"2020-03-03\", \"2020-03-04\", \"2020-03-05\", \"2020-03-06\", \"2020-03-07\", \"2020-03-08\", \"2020-03-09\", \"2020-03-10\", \"2020-03-11\", \"2020-03-12\", \"2020-03-13\", \"2020-03-14\", \"2020-03-15\", \"2020-03-16\", \"2020-03-17\", \"2020-03-18\", \"2020-03-19\", \"2020-03-20\", \"2020-03-21\", \"2020-03-22\", \"2020-03-23\", \"2020-03-24\", \"2020-03-25\", \"2020-03-26\", \"2020-03-27\", \"2020-03-28\", \"2020-03-29\", \"2020-03-30\", \"2020-03-31\", \"2020-04-01\", \"2020-04-02\", \"2020-04-03\", \"2020-04-04\", \"2020-04-05\", \"2020-04-06\", \"2020-04-07\", \"2020-04-08\", \"2020-04-09\", \"2020-04-10\", \"2020-04-11\", \"2020-04-12\", \"2020-04-13\", \"2020-04-14\", \"2020-04-15\", \"2020-04-16\", \"2020-04-17\", \"2020-04-18\", \"2020-04-19\", \"2020-04-20\", \"2020-04-21\", \"2020-04-22\", \"2020-04-23\", \"2020-04-24\", \"2020-04-25\", \"2020-04-26\", \"2020-04-27\", \"2020-04-28\", \"2020-04-29\", \"2020-04-30\", \"2020-05-01\", \"2020-05-02\", \"2020-05-03\", \"2020-05-04\", \"2020-05-05\", \"2020-05-06\", \"2020-05-07\", \"2020-05-08\", \"2020-05-09\", \"2020-05-10\", \"2020-05-11\"], \"xaxis\": \"x4\", \"y\": [null, null, null, null, null, null, null, 871.0, 1796.0, 2412.0, 3748.0, 5137.0, 9056.0, 4500.0, 7675.0, 17663.0, 15574.0, 24673.0, 27400.0, 36155.0, 44754.0, 44602.0, 57135.0, 68613.0, 83487.0, 100464.0, 103070.0, 104366.0, 88780.0, 117450.0, 111094.0, 107582.0, 118023.0, 132232.0, 228797.0, 119659.0, 150730.0, 152745.0, 144433.0, 165833.0, 157787.0, 138568.0, 141705.0, 132993.0, 150543.0, 136706.0, 162126.0, 158169.0, 142337.0, 160390.0, 147732.0, 148110.0, 314891.0, 192382.0, 232101.0, 276915.0, 206420.0, 189358.0, 202778.0, 229897.0, 229599.0, 296833.0, 252639.0, 248125.0, 232008.0, 258954.0, 242465.0, 318720.0, 303275.0, 300842.0, null, null], \"yaxis\": \"y4\"}, {\"name\": \"New Cases (lower)\", \"opacity\": 1, \"type\": \"bar\", \"x\": [\"2020-03-01\", \"2020-03-02\", \"2020-03-03\", \"2020-03-04\", \"2020-03-05\", \"2020-03-06\", \"2020-03-07\", \"2020-03-08\", \"2020-03-09\", \"2020-03-10\", \"2020-03-11\", \"2020-03-12\", \"2020-03-13\", \"2020-03-14\", \"2020-03-15\", \"2020-03-16\", \"2020-03-17\", \"2020-03-18\", \"2020-03-19\", \"2020-03-20\", \"2020-03-21\", \"2020-03-22\", \"2020-03-23\", \"2020-03-24\", \"2020-03-25\", \"2020-03-26\", \"2020-03-27\", \"2020-03-28\", \"2020-03-29\", \"2020-03-30\", \"2020-03-31\", \"2020-04-01\", \"2020-04-02\", \"2020-04-03\", \"2020-04-04\", \"2020-04-05\", \"2020-04-06\", \"2020-04-07\", \"2020-04-08\", \"2020-04-09\", \"2020-04-10\", \"2020-04-11\", \"2020-04-12\", \"2020-04-13\", \"2020-04-14\", \"2020-04-15\", \"2020-04-16\", \"2020-04-17\", \"2020-04-18\", \"2020-04-19\", \"2020-04-20\", \"2020-04-21\", \"2020-04-22\", \"2020-04-23\", \"2020-04-24\", \"2020-04-25\", \"2020-04-26\", \"2020-04-27\", \"2020-04-28\", \"2020-04-29\", \"2020-04-30\", \"2020-05-01\", \"2020-05-02\", \"2020-05-03\", \"2020-05-04\", \"2020-05-05\", \"2020-05-06\", \"2020-05-07\", \"2020-05-08\", \"2020-05-09\", \"2020-05-10\", \"2020-05-11\"], \"xaxis\": \"x4\", \"y\": [3, 20, 14, 22, 34, 74, 105, 95, 121, 200, 271, 287, 351, 511, 777, 823, 887, 1766, 2988, 4835, 5374, 7123, 8459, 11236, 8789, 13963, 16797, 18695, 19979, 18360, 21595, 24998, 27103, 28819, 32425, 34272, 25398, 30561, 30613, 33323, 33901, 35527, 28391, 27620, 25023, 26922, 30148, 31667, 30833, 32922, 24601, 28065, 37289, 17588, 26543, 21352, 48529, 26857, 22541, 24132, 27326, 29917, 33955, 29288, 24972, 22593, 23841, 24128, 28369, 26957, 25612, 20258], \"yaxis\": \"y4\"}, {\"mode\": \"lines+markers\", \"name\": \"Cases per test (lower)\", \"opacity\": 0.6, \"type\": \"scatter\", \"x\": [\"2020-03-01\", \"2020-03-02\", \"2020-03-03\", \"2020-03-04\", \"2020-03-05\", \"2020-03-06\", \"2020-03-07\", \"2020-03-08\", \"2020-03-09\", \"2020-03-10\", \"2020-03-11\", \"2020-03-12\", \"2020-03-13\", \"2020-03-14\", \"2020-03-15\", \"2020-03-16\", \"2020-03-17\", \"2020-03-18\", \"2020-03-19\", \"2020-03-20\", \"2020-03-21\", \"2020-03-22\", \"2020-03-23\", \"2020-03-24\", \"2020-03-25\", \"2020-03-26\", \"2020-03-27\", \"2020-03-28\", \"2020-03-29\", \"2020-03-30\", \"2020-03-31\", \"2020-04-01\", \"2020-04-02\", \"2020-04-03\", \"2020-04-04\", \"2020-04-05\", \"2020-04-06\", \"2020-04-07\", \"2020-04-08\", \"2020-04-09\", \"2020-04-10\", \"2020-04-11\", \"2020-04-12\", \"2020-04-13\", \"2020-04-14\", \"2020-04-15\", \"2020-04-16\", \"2020-04-17\", \"2020-04-18\", \"2020-04-19\", \"2020-04-20\", \"2020-04-21\", \"2020-04-22\", \"2020-04-23\", \"2020-04-24\", \"2020-04-25\", \"2020-04-26\", \"2020-04-27\", \"2020-04-28\", \"2020-04-29\", \"2020-04-30\", \"2020-05-01\", \"2020-05-02\", \"2020-05-03\", \"2020-05-04\", \"2020-05-05\", \"2020-05-06\", \"2020-05-07\", \"2020-05-08\", \"2020-05-09\", \"2020-05-10\", \"2020-05-11\"], \"xaxis\": \"x4\", \"y\": [null, null, null, null, null, null, null, 0.10907003444316878, 0.06737193763919821, 0.08291873963515754, 0.07230522945570972, 0.055869184348841736, 0.03875883392226148, 0.11355555555555556, 0.10123778501628665, 0.04659457623280303, 0.056953897521510206, 0.071576216917278, 0.10905109489051094, 0.1337297745816623, 0.12007865218751397, 0.1597013586834671, 0.14805285726787434, 0.16375905440659932, 0.10527387497454693, 0.13898510909380474, 0.16296691568836713, 0.1791292183278079, 0.22503942329353457, 0.15632183908045977, 0.19438493528003312, 0.23236229108958747, 0.22964168001152319, 0.2179427067578196, 0.14171951555308854, 0.2864138928120743, 0.16849996682810323, 0.2000785623097319, 0.21195294704118864, 0.20094311747360297, 0.21485293465241115, 0.2563867559609722, 0.20035284570057513, 0.2076801034640921, 0.16621828979095674, 0.19693356546164761, 0.18595413443864647, 0.20020990206677666, 0.21661971237274918, 0.20526217345221023, 0.16652451736929033, 0.1894875430423334, 0.11841875442613475, 0.09142227443315903, 0.11435969685611005, 0.07710669338966832, 0.23509834318380002, 0.14183187401641337, 0.1111609740701654, 0.10496874687359992, 0.11901619780573958, 0.10078731138384209, 0.13440126029631214, 0.11803727959697732, 0.10763421950967209, 0.08724715586552052, 0.09832759367331367, 0.07570281124497992, 0.09354216470200313, 0.08960517480936837, null, null], \"yaxis\": \"y5\"}],\n                        {\"barmode\": \"group\", \"template\": {\"data\": {\"bar\": [{\"error_x\": {\"color\": \"#2a3f5f\"}, \"error_y\": {\"color\": \"#2a3f5f\"}, \"marker\": {\"line\": {\"color\": \"#E5ECF6\", \"width\": 0.5}}, \"type\": \"bar\"}], \"barpolar\": [{\"marker\": {\"line\": {\"color\": \"#E5ECF6\", \"width\": 0.5}}, \"type\": \"barpolar\"}], \"carpet\": [{\"aaxis\": {\"endlinecolor\": \"#2a3f5f\", \"gridcolor\": \"white\", \"linecolor\": \"white\", \"minorgridcolor\": \"white\", \"startlinecolor\": \"#2a3f5f\"}, \"baxis\": {\"endlinecolor\": \"#2a3f5f\", \"gridcolor\": \"white\", \"linecolor\": \"white\", \"minorgridcolor\": \"white\", \"startlinecolor\": \"#2a3f5f\"}, \"type\": \"carpet\"}], \"choropleth\": [{\"colorbar\": {\"outlinewidth\": 0, \"ticks\": \"\"}, \"type\": \"choropleth\"}], \"contour\": [{\"colorbar\": {\"outlinewidth\": 0, \"ticks\": \"\"}, \"colorscale\": [[0.0, \"#0d0887\"], [0.1111111111111111, \"#46039f\"], [0.2222222222222222, \"#7201a8\"], [0.3333333333333333, \"#9c179e\"], [0.4444444444444444, \"#bd3786\"], [0.5555555555555556, \"#d8576b\"], [0.6666666666666666, \"#ed7953\"], [0.7777777777777778, \"#fb9f3a\"], [0.8888888888888888, \"#fdca26\"], [1.0, \"#f0f921\"]], \"type\": \"contour\"}], \"contourcarpet\": [{\"colorbar\": {\"outlinewidth\": 0, \"ticks\": \"\"}, \"type\": \"contourcarpet\"}], \"heatmap\": [{\"colorbar\": {\"outlinewidth\": 0, \"ticks\": \"\"}, \"colorscale\": [[0.0, \"#0d0887\"], [0.1111111111111111, \"#46039f\"], [0.2222222222222222, \"#7201a8\"], [0.3333333333333333, \"#9c179e\"], [0.4444444444444444, \"#bd3786\"], [0.5555555555555556, \"#d8576b\"], [0.6666666666666666, \"#ed7953\"], [0.7777777777777778, \"#fb9f3a\"], [0.8888888888888888, \"#fdca26\"], [1.0, \"#f0f921\"]], \"type\": \"heatmap\"}], \"heatmapgl\": [{\"colorbar\": {\"outlinewidth\": 0, \"ticks\": \"\"}, \"colorscale\": [[0.0, \"#0d0887\"], [0.1111111111111111, \"#46039f\"], [0.2222222222222222, \"#7201a8\"], [0.3333333333333333, \"#9c179e\"], [0.4444444444444444, \"#bd3786\"], [0.5555555555555556, \"#d8576b\"], [0.6666666666666666, \"#ed7953\"], [0.7777777777777778, \"#fb9f3a\"], [0.8888888888888888, \"#fdca26\"], [1.0, \"#f0f921\"]], \"type\": \"heatmapgl\"}], \"histogram\": [{\"marker\": {\"colorbar\": {\"outlinewidth\": 0, \"ticks\": \"\"}}, \"type\": \"histogram\"}], \"histogram2d\": [{\"colorbar\": {\"outlinewidth\": 0, \"ticks\": \"\"}, \"colorscale\": [[0.0, \"#0d0887\"], [0.1111111111111111, \"#46039f\"], [0.2222222222222222, \"#7201a8\"], [0.3333333333333333, \"#9c179e\"], [0.4444444444444444, \"#bd3786\"], [0.5555555555555556, \"#d8576b\"], [0.6666666666666666, \"#ed7953\"], [0.7777777777777778, \"#fb9f3a\"], [0.8888888888888888, \"#fdca26\"], [1.0, \"#f0f921\"]], \"type\": \"histogram2d\"}], \"histogram2dcontour\": [{\"colorbar\": {\"outlinewidth\": 0, \"ticks\": \"\"}, \"colorscale\": [[0.0, \"#0d0887\"], [0.1111111111111111, \"#46039f\"], [0.2222222222222222, \"#7201a8\"], [0.3333333333333333, \"#9c179e\"], [0.4444444444444444, \"#bd3786\"], [0.5555555555555556, \"#d8576b\"], [0.6666666666666666, \"#ed7953\"], [0.7777777777777778, \"#fb9f3a\"], [0.8888888888888888, \"#fdca26\"], [1.0, \"#f0f921\"]], \"type\": \"histogram2dcontour\"}], \"mesh3d\": [{\"colorbar\": {\"outlinewidth\": 0, \"ticks\": \"\"}, \"type\": \"mesh3d\"}], \"parcoords\": [{\"line\": {\"colorbar\": {\"outlinewidth\": 0, \"ticks\": \"\"}}, \"type\": \"parcoords\"}], \"pie\": [{\"automargin\": true, \"type\": \"pie\"}], \"scatter\": [{\"marker\": {\"colorbar\": {\"outlinewidth\": 0, \"ticks\": \"\"}}, \"type\": \"scatter\"}], \"scatter3d\": [{\"line\": {\"colorbar\": {\"outlinewidth\": 0, \"ticks\": \"\"}}, \"marker\": {\"colorbar\": {\"outlinewidth\": 0, \"ticks\": \"\"}}, \"type\": \"scatter3d\"}], \"scattercarpet\": [{\"marker\": {\"colorbar\": {\"outlinewidth\": 0, \"ticks\": \"\"}}, \"type\": \"scattercarpet\"}], \"scattergeo\": [{\"marker\": {\"colorbar\": {\"outlinewidth\": 0, \"ticks\": \"\"}}, \"type\": \"scattergeo\"}], \"scattergl\": [{\"marker\": {\"colorbar\": {\"outlinewidth\": 0, \"ticks\": \"\"}}, \"type\": \"scattergl\"}], \"scattermapbox\": [{\"marker\": {\"colorbar\": {\"outlinewidth\": 0, \"ticks\": \"\"}}, \"type\": \"scattermapbox\"}], \"scatterpolar\": [{\"marker\": {\"colorbar\": {\"outlinewidth\": 0, \"ticks\": \"\"}}, \"type\": \"scatterpolar\"}], \"scatterpolargl\": [{\"marker\": {\"colorbar\": {\"outlinewidth\": 0, \"ticks\": \"\"}}, \"type\": \"scatterpolargl\"}], \"scatterternary\": [{\"marker\": {\"colorbar\": {\"outlinewidth\": 0, \"ticks\": \"\"}}, \"type\": \"scatterternary\"}], \"surface\": [{\"colorbar\": {\"outlinewidth\": 0, \"ticks\": \"\"}, \"colorscale\": [[0.0, \"#0d0887\"], [0.1111111111111111, \"#46039f\"], [0.2222222222222222, \"#7201a8\"], [0.3333333333333333, \"#9c179e\"], [0.4444444444444444, \"#bd3786\"], [0.5555555555555556, \"#d8576b\"], [0.6666666666666666, \"#ed7953\"], [0.7777777777777778, \"#fb9f3a\"], [0.8888888888888888, \"#fdca26\"], [1.0, \"#f0f921\"]], \"type\": \"surface\"}], \"table\": [{\"cells\": {\"fill\": {\"color\": \"#EBF0F8\"}, \"line\": {\"color\": \"white\"}}, \"header\": {\"fill\": {\"color\": \"#C8D4E3\"}, \"line\": {\"color\": \"white\"}}, \"type\": \"table\"}]}, \"layout\": {\"annotationdefaults\": {\"arrowcolor\": \"#2a3f5f\", \"arrowhead\": 0, \"arrowwidth\": 1}, \"coloraxis\": {\"colorbar\": {\"outlinewidth\": 0, \"ticks\": \"\"}}, \"colorscale\": {\"diverging\": [[0, \"#8e0152\"], [0.1, \"#c51b7d\"], [0.2, \"#de77ae\"], [0.3, \"#f1b6da\"], [0.4, \"#fde0ef\"], [0.5, \"#f7f7f7\"], [0.6, \"#e6f5d0\"], [0.7, \"#b8e186\"], [0.8, \"#7fbc41\"], [0.9, \"#4d9221\"], [1, \"#276419\"]], \"sequential\": [[0.0, \"#0d0887\"], [0.1111111111111111, \"#46039f\"], [0.2222222222222222, \"#7201a8\"], [0.3333333333333333, \"#9c179e\"], [0.4444444444444444, \"#bd3786\"], [0.5555555555555556, \"#d8576b\"], [0.6666666666666666, \"#ed7953\"], [0.7777777777777778, \"#fb9f3a\"], [0.8888888888888888, \"#fdca26\"], [1.0, \"#f0f921\"]], \"sequentialminus\": [[0.0, \"#0d0887\"], [0.1111111111111111, \"#46039f\"], [0.2222222222222222, \"#7201a8\"], [0.3333333333333333, \"#9c179e\"], [0.4444444444444444, \"#bd3786\"], [0.5555555555555556, \"#d8576b\"], [0.6666666666666666, \"#ed7953\"], [0.7777777777777778, \"#fb9f3a\"], [0.8888888888888888, \"#fdca26\"], [1.0, \"#f0f921\"]]}, \"colorway\": [\"#636efa\", \"#EF553B\", \"#00cc96\", \"#ab63fa\", \"#FFA15A\", \"#19d3f3\", \"#FF6692\", \"#B6E880\", \"#FF97FF\", \"#FECB52\"], \"font\": {\"color\": \"#2a3f5f\"}, \"geo\": {\"bgcolor\": \"white\", \"lakecolor\": \"white\", \"landcolor\": \"#E5ECF6\", \"showlakes\": true, \"showland\": true, \"subunitcolor\": \"white\"}, \"hoverlabel\": {\"align\": \"left\"}, \"hovermode\": \"closest\", \"mapbox\": {\"style\": \"light\"}, \"paper_bgcolor\": \"white\", \"plot_bgcolor\": \"#E5ECF6\", \"polar\": {\"angularaxis\": {\"gridcolor\": \"white\", \"linecolor\": \"white\", \"ticks\": \"\"}, \"bgcolor\": \"#E5ECF6\", \"radialaxis\": {\"gridcolor\": \"white\", \"linecolor\": \"white\", \"ticks\": \"\"}}, \"scene\": {\"xaxis\": {\"backgroundcolor\": \"#E5ECF6\", \"gridcolor\": \"white\", \"gridwidth\": 2, \"linecolor\": \"white\", \"showbackground\": true, \"ticks\": \"\", \"zerolinecolor\": \"white\"}, \"yaxis\": {\"backgroundcolor\": \"#E5ECF6\", \"gridcolor\": \"white\", \"gridwidth\": 2, \"linecolor\": \"white\", \"showbackground\": true, \"ticks\": \"\", \"zerolinecolor\": \"white\"}, \"zaxis\": {\"backgroundcolor\": \"#E5ECF6\", \"gridcolor\": \"white\", \"gridwidth\": 2, \"linecolor\": \"white\", \"showbackground\": true, \"ticks\": \"\", \"zerolinecolor\": \"white\"}}, \"shapedefaults\": {\"line\": {\"color\": \"#2a3f5f\"}}, \"ternary\": {\"aaxis\": {\"gridcolor\": \"white\", \"linecolor\": \"white\", \"ticks\": \"\"}, \"baxis\": {\"gridcolor\": \"white\", \"linecolor\": \"white\", \"ticks\": \"\"}, \"bgcolor\": \"#E5ECF6\", \"caxis\": {\"gridcolor\": \"white\", \"linecolor\": \"white\", \"ticks\": \"\"}}, \"title\": {\"x\": 0.05}, \"xaxis\": {\"automargin\": true, \"gridcolor\": \"white\", \"linecolor\": \"white\", \"ticks\": \"\", \"title\": {\"standoff\": 15}, \"zerolinecolor\": \"white\", \"zerolinewidth\": 2}, \"yaxis\": {\"automargin\": true, \"gridcolor\": \"white\", \"linecolor\": \"white\", \"ticks\": \"\", \"title\": {\"standoff\": 15}, \"zerolinecolor\": \"white\", \"zerolinewidth\": 2}}}, \"title\": {\"text\": \"Comparison of New Cases and Tests Administered<br>Source: <a href=\\\"https://github.com/owid/covid-19-data/tree/master/public/data\\\">Data on COVID-19 (coronavirus) by Our World in Data</a> (<a href=\\\"https://covid.ourworldindata.org/data/owid-covid-data.csv\\\">CSV file</a>)\"}, \"xaxis\": {\"anchor\": \"y\", \"domain\": [0.0, 0.37]}, \"xaxis2\": {\"anchor\": \"y2\", \"domain\": [0.5700000000000001, 0.9400000000000001]}, \"xaxis3\": {\"anchor\": \"y3\", \"domain\": [0.0, 0.37]}, \"xaxis4\": {\"anchor\": \"y4\", \"domain\": [0.0, 0.9400000000000001]}, \"yaxis\": {\"anchor\": \"x\", \"domain\": [0.7333333333333333, 1.0], \"title\": {\"text\": \"New Tests\"}}, \"yaxis2\": {\"anchor\": \"x2\", \"domain\": [0.36666666666666664, 1.0], \"title\": {\"text\": \"New Cases per Test\"}}, \"yaxis3\": {\"anchor\": \"x3\", \"domain\": [0.36666666666666664, 0.6333333333333333], \"title\": {\"text\": \"New Cases\"}}, \"yaxis4\": {\"anchor\": \"x4\", \"domain\": [0.0, 0.26666666666666666], \"title\": {\"text\": \"New Cases/Tests\"}}, \"yaxis5\": {\"anchor\": \"x4\", \"overlaying\": \"y4\", \"side\": \"right\", \"title\": {\"text\": \"New Cases per Test\"}}},\n                        {\"responsive\": true}\n                    ).then(function(){\n                            \nvar gd = document.getElementById('8579bc26-29a0-42ce-b9a0-829d0217f9a4');\nvar x = new MutationObserver(function (mutations, observer) {{\n        var display = window.getComputedStyle(gd).display;\n        if (!display || display === 'none') {{\n            console.log([gd, 'removed!']);\n            Plotly.purge(gd);\n            observer.disconnect();\n        }}\n}});\n\n// Listen for the removal of the full notebook cells\nvar notebookContainer = gd.closest('#notebook-container');\nif (notebookContainer) {{\n    x.observe(notebookContainer, {childList: true});\n}}\n\n// Listen for the clearing of the current output cell\nvar outputEl = gd.closest('.output');\nif (outputEl) {{\n    x.observe(outputEl, {childList: true});\n}}\n\n                        })\n                };\n                });\n            </script>\n        </div>"
     },
     "metadata": {},
     "output_type": "display_data"
    }
   ],
   "source": [
    "df = pd.read_csv('https://covid.ourworldindata.org/data/owid-covid-data.csv')\n",
    "\n",
    "us_true = df.location == 'United States'\n",
    "date = df.date >= '2020-03-01'\n",
    "us = df[us_true & date]\n",
    "\n",
    "# fig  = px.bar(us, x='date', y='new_cases')\n",
    "# fig.show()\n",
    "\n",
    "import plotly.graph_objects as go\n",
    "from plotly.subplots import make_subplots\n",
    "fig = make_subplots(rows=3, cols=2, specs=[[{},{\"rowspan\": 2}],\n",
    "                                           [{}, None],\n",
    "                                           [{\"secondary_y\": True,\n",
    "                                                 \"colspan\": 2}, None]])\n",
    "fig.add_trace(go.Bar(\n",
    "    name='New Tests', x=us.date, y=us.new_tests, opacity=1),\n",
    "    row=1, col=1)\n",
    "fig.add_trace(go.Bar(\n",
    "    name='New Cases', x=us.date, y=us.new_cases, opacity=1),\n",
    "    row=2, col=1)\n",
    "fig.add_trace(go.Scatter(\n",
    "    name='Cases per test', x=us.date, y=us.new_cases / us.new_tests,\n",
    "    opacity=0.6, mode='lines+markers'),\n",
    "    row=1, col=2, )\n",
    "\n",
    "fig.add_trace(go.Bar(\n",
    "    name='New Tests (lower)', x=us.date, y=us.new_tests, opacity=1),\n",
    "    row=3, col=1)\n",
    "fig.add_trace(go.Bar(\n",
    "    name='New Cases (lower)', x=us.date, y=us.new_cases, opacity=1),\n",
    "    row=3, col=1)\n",
    "fig.add_trace(go.Scatter(\n",
    "    name='Cases per test (lower)', x=us.date, y=us.new_cases / us.new_tests,\n",
    "    opacity=0.6, mode='lines+markers'),\n",
    "    row=3, col=1, secondary_y=True)\n",
    "\n",
    "\n",
    "\n",
    "fig.update_layout(\n",
    "    barmode='group',\n",
    "    title=f'Comparison of New Cases and Tests Administered<br>'\n",
    "          f'Source: <a href=\"https://github.com/owid/covid-19-data/tree/master/public/data\">'\n",
    "          f'Data on COVID-19 (coronavirus) by Our World in Data</a> ('\n",
    "          f'<a href=\"https://covid.ourworldindata.org/data/owid-covid-data.csv\">CSV file</a>)',\n",
    "    yaxis_title='New Cases',\n",
    ")\n",
    "fig.update_yaxes(title_text=\"New Tests\",row=1, col=1)\n",
    "fig.update_yaxes(title_text=\"New Cases\",row=2, col=1)\n",
    "fig.update_yaxes(title_text=\"New Cases/Tests\",row=3, col=1)\n",
    "fig.update_yaxes(title_text=\"New Cases per Test\",row=1, col=2)\n",
    "fig.update_yaxes(title_text=\"New Cases per Test\",secondary_y=True, row=3, col=1)\n",
    "\n",
    "fig.show()\n",
    "fig.write_html('../charts/united_states_cases_per_test.html')"
   ],
   "metadata": {
    "collapsed": false,
    "pycharm": {
     "name": "#%%\n"
    }
   }
  }
 ],
 "metadata": {
  "kernelspec": {
   "display_name": "Python 3",
   "language": "python",
   "name": "python3"
  },
  "language_info": {
   "codemirror_mode": {
    "name": "ipython",
    "version": 2
   },
   "file_extension": ".py",
   "mimetype": "text/x-python",
   "name": "python",
   "nbconvert_exporter": "python",
   "pygments_lexer": "ipython2",
   "version": "2.7.6"
  }
 },
 "nbformat": 4,
 "nbformat_minor": 0
}