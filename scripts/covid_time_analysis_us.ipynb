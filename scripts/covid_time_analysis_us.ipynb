{
 "cells": [
  {
   "cell_type": "code",
   "execution_count": 28,
   "outputs": [],
   "source": [
    "import numpy as np\n",
    "import us\n",
    "import pandas as pd\n",
    "import os\n",
    "import subprocess\n",
    "from pathlib import Path\n",
    "import plotly.express as px"
   ],
   "metadata": {
    "collapsed": false,
    "pycharm": {
     "name": "#%%\n"
    }
   }
  },
  {
   "cell_type": "code",
   "execution_count": 29,
   "outputs": [
    {
     "name": "stdout",
     "output_type": "stream",
     "text": [
      "Already up to date.\n",
      "\n"
     ]
    }
   ],
   "source": [
    "# assumes git is installed\n",
    "# assumes you are storing data in parent directory\n",
    "\n",
    "os.chdir('../data/COVID-19')\n",
    "cmd = ['git', 'pull', 'https://github.com/CSSEGISandData/COVID-19.git']\n",
    "out = subprocess.run(cmd, stdout=subprocess.PIPE)\n",
    "print(out.stdout.decode())\n"
   ],
   "metadata": {
    "collapsed": false,
    "pycharm": {
     "name": "#%%\n"
    }
   }
  },
  {
   "cell_type": "code",
   "execution_count": 30,
   "outputs": [],
   "source": [
    "us_confirmed_path = Path().joinpath('csse_covid_19_data',\n",
    "                            'csse_covid_19_time_series',\n",
    "                            'time_series_covid19_confirmed_US.csv')\n",
    "\n",
    "\n",
    "us_death_path = Path().joinpath('csse_covid_19_data',\n",
    "                            'csse_covid_19_time_series',\n",
    "                            'time_series_covid19_deaths_US.csv')\n",
    "\n",
    "us_c = pd.read_csv(us_confirmed_path)\n",
    "us_d = pd.read_csv(us_death_path)\n",
    "os.chdir('../../scripts/')"
   ],
   "metadata": {
    "collapsed": false,
    "pycharm": {
     "name": "#%%\n"
    }
   }
  },
  {
   "cell_type": "code",
   "execution_count": 31,
   "outputs": [],
   "source": [
    "a = us_c.groupby('Province_State').sum().iloc[:, 5:].unstack().reset_index()\n",
    "b = us_d.groupby('Province_State').sum().iloc[:, 6:].unstack().reset_index()\n",
    "scatter_data = pd.merge(a, b, on=['level_0', 'Province_State'])\n",
    "new_names = {'level_0': 'Date', 'Province_State': 'State',\n",
    "             '0_x': 'Confirmed', '0_y': 'Deaths'}\n",
    "scatter_data = scatter_data.rename(columns=new_names)"
   ],
   "metadata": {
    "collapsed": false,
    "pycharm": {
     "name": "#%% restructure, and join data\n"
    }
   }
  },
  {
   "cell_type": "code",
   "execution_count": 32,
   "outputs": [],
   "source": [
    "scatter_data['Date'] = pd.to_datetime(scatter_data['Date']).dt.\\\n",
    "    strftime(\"%Y-%m-%d\")\n",
    "days = scatter_data.Date[scatter_data['Confirmed'] > 0].unique()\n",
    "\n",
    "scatter_data['Death Rate'] = (scatter_data.Deaths /\n",
    "                        scatter_data.Confirmed * 100).fillna(1).round(2)\n",
    "idx = scatter_data[scatter_data['Death Rate'] == 0].index\n",
    "scatter_data.at[idx, 'Death Rate'] = 1\n",
    "\n",
    "idx = scatter_data[scatter_data['Confirmed'] < 0].index\n",
    "scatter_data.at[idx, 'Confirmed'] = 0\n",
    "\n",
    "idx = scatter_data[scatter_data['Deaths'] < 0].index\n",
    "scatter_data.at[idx, 'Deaths'] = 0\n"
   ],
   "metadata": {
    "collapsed": false,
    "pycharm": {
     "name": "#%%\n"
    }
   }
  },
  {
   "cell_type": "code",
   "execution_count": null,
   "outputs": [],
   "source": [
    "fig = px.scatter(\n",
    "    data_frame=scatter_data,\n",
    "    x='Confirmed',\n",
    "    y='Deaths',\n",
    "    animation_frame='Date',\n",
    "    animation_group='State',\n",
    "    size='Death Rate',\n",
    "    color='State',\n",
    "    hover_name='State',\n",
    "    size_max=100,\n",
    "    title='COVID-19 United States Pandemic',\n",
    "    category_orders={'Day':days}\n",
    ")\n",
    "fig.update_layout(width=1200)\n",
    "fig.write_html(\"../charts/united_states_bubble_chart.html\")"
   ],
   "metadata": {
    "collapsed": false,
    "pycharm": {
     "name": "#%%\n",
     "is_executing": true
    }
   }
  },
  {
   "cell_type": "code",
   "execution_count": null,
   "outputs": [],
   "source": [
    "pop = pd.read_csv('../data/us_population.csv').set_index('state')\n",
    "max_confirmed = list()\n",
    "for s in scatter_data.State.unique():\n",
    "    max_confirmed.append(scatter_data.Confirmed[scatter_data.State == s].max())\n",
    "    idx = scatter_data[scatter_data.State == s].index\n",
    "    try:\n",
    "        scatter_data.at[idx, 'state_abbr'] = us.states.lookup(s).abbr\n",
    "        scatter_data.at[idx, 'population'] = pop.population.loc[s]\n",
    "    except KeyError:\n",
    "        print(f'Cannot find population for {s}.')\n",
    "    except AttributeError:\n",
    "        print(f'Cannot find abbreviation for {s}.')\n",
    "scatter_data['Confirmed per M'] = \\\n",
    "    (scatter_data.Confirmed / (scatter_data.population / 1000000)).fillna(0)\n",
    "\n",
    "max_confirmed_norm = list()\n",
    "for s in scatter_data.State.unique():\n",
    "    max_confirmed_norm.append(scatter_data['Confirmed per M']\n",
    "                         [scatter_data.State == s].max())\n",
    "\n",
    "scatter_data"
   ],
   "metadata": {
    "collapsed": false,
    "pycharm": {
     "name": "#%%\n",
     "is_executing": true
    }
   }
  },
  {
   "cell_type": "code",
   "execution_count": null,
   "outputs": [],
   "source": [
    "q = 95\n",
    "cmax = int(np.percentile(max_confirmed, q))\n",
    "\n",
    "fig = px.choropleth(\n",
    "    scatter_data[scatter_data.Date >= '2020-03-14'],\n",
    "    locationmode='USA-states',\n",
    "    locations=\"state_abbr\",\n",
    "    color=\"Confirmed\",\n",
    "    animation_frame='Date',\n",
    "    animation_group='State',\n",
    "    hover_name=\"State\",\n",
    "    color_continuous_scale=px.colors.diverging.Portland,\n",
    "    range_color=[0,cmax],\n",
    "    projection='albers usa',\n",
    "    title=f'COVID-19 Confirmed Cases (scale maxed at {q}th percentile: {cmax:,})<br>'\n",
    "          f'Source:<a href=\"https://github.com/CSSEGISandData/COVID-19/tree/master/csse_covid_19_data\">'\n",
    "          f'JHU CSSE COVID-19 Dataset</a>'\n",
    "    )\n",
    "\n",
    "fig.write_html('../charts/united_states_confirmed_cases_map.html')"
   ],
   "metadata": {
    "collapsed": false,
    "pycharm": {
     "name": "#%%\n",
     "is_executing": true
    }
   }
  },
  {
   "cell_type": "code",
   "execution_count": null,
   "outputs": [],
   "source": [
    "q = 85\n",
    "cmax = np.percentile(max_confirmed_norm, q)\n",
    "\n",
    "fig = px.choropleth(\n",
    "    scatter_data[scatter_data.Date >= '2020-03-14'],\n",
    "    locationmode='USA-states',\n",
    "    locations='state_abbr',\n",
    "    color='Confirmed per M',\n",
    "    animation_frame='Date',\n",
    "    animation_group='State',\n",
    "    hover_name=\"State\",\n",
    "    hover_data=scatter_data.columns,\n",
    "    color_continuous_scale=px.colors.diverging.Portland,\n",
    "    range_color=[0,cmax],\n",
    "    projection='albers usa',\n",
    "    title=f'COVID-19 Confirmed Cases per Million (scale maxed at {q}th percentile: {cmax:.0f})<br>'\n",
    "          f'Source: <a href=\"https://github.com/CSSEGISandData/COVID-19/tree/master/csse_covid_19_data\">'\n",
    "          f'JHU CSSE COVID-19 Dataset</a>'\n",
    "    )\n",
    "\n",
    "fig.write_html('../charts/united_states_confirmed_cases_per_million_map.html')"
   ],
   "metadata": {
    "collapsed": false,
    "pycharm": {
     "name": "#%%\n",
     "is_executing": true
    }
   }
  },
  {
   "cell_type": "code",
   "execution_count": null,
   "outputs": [],
   "source": [
    "def split_by_state(state, df):\n",
    "    df = df[df.State == state].copy()\n",
    "    return df\n",
    "\n",
    "def calc_growth_rate(df):\n",
    "    #calc growth rate\n",
    "    df['today'] = df.Confirmed.diff().fillna(0)\n",
    "    df['yesterday'] = df.today.shift(1).fillna(method='ffill')\n",
    "    df['growth_rate'] = (df['today'] / df['yesterday'] - 1).round(3)\n",
    "    df['growth_rate'] = df['growth_rate'].replace([np.inf, -np.inf], np.nan)\n",
    "    df['growth_rate'] = df['growth_rate'].fillna(method='ffill')\n",
    "    # calc rolling growth rate\n",
    "    df['Date'] = pd.to_datetime(df['Date'])\n",
    "    df = df.set_index('Date', drop=False)\n",
    "    df = df.sort_index()\n",
    "    df['rolling_growth_rate'] = df['growth_rate'].clip(-5,5).rolling('14d').mean().round(3)\n",
    "    df['Date'] = df['Date'].apply(lambda x: x.strftime('%Y-%m-%d'))\n",
    "    return df\n",
    "\n",
    "df_s = list()\n",
    "for s in scatter_data.State.unique():\n",
    "    df_s.append(split_by_state(s, scatter_data))\n",
    "\n",
    "new_dfs = list()\n",
    "for d in df_s:\n",
    "    new_dfs.append(calc_growth_rate(d))\n",
    "\n",
    "sdn = pd.concat(new_dfs, ignore_index=True)\n",
    "sdn.reset_index(drop=True)\n",
    "sdn.to_csv('../data/us_confirmed_growth_rate.csv', index=False)"
   ],
   "metadata": {
    "collapsed": false,
    "pycharm": {
     "name": "#%% growth rate\n",
     "is_executing": true
    }
   }
  },
  {
   "cell_type": "code",
   "execution_count": null,
   "outputs": [],
   "source": [
    "fig = px.choropleth(\n",
    "    sdn[(sdn.Date > '2020-03-14') &\n",
    "        (pd.to_datetime(sdn.Date) <= pd.to_datetime(sdn.Date.max()) - pd.Timedelta(days=1))],\n",
    "    locationmode='USA-states',\n",
    "    locations='state_abbr',\n",
    "    color='growth_rate',\n",
    "    animation_frame='Date',\n",
    "    animation_group='State',\n",
    "    hover_name=\"State\",\n",
    "    hover_data=['Date', 'Confirmed', 'Deaths', 'today', 'yesterday',\n",
    "                'growth_rate'],\n",
    "    color_continuous_scale=px.colors.diverging.RdYlGn_r,\n",
    "    color_continuous_midpoint=0,\n",
    "    range_color=[-1,1],\n",
    "    projection='albers usa',\n",
    "    title=f'COVID-19 Confirmed Cases Growth Rate<br>'\n",
    "          f'Source: <a href=\"https://github.com/CSSEGISandData/COVID-19/tree/master/csse_covid_19_data\">'\n",
    "          f'JHU CSSE COVID-19 Dataset</a>'\n",
    "    )\n",
    "\n",
    "fig.write_html('../charts/united_states_confirmed_cases_growth_rate_map.html')"
   ],
   "metadata": {
    "collapsed": false,
    "pycharm": {
     "name": "#%%\n",
     "is_executing": true
    }
   }
  },
  {
   "cell_type": "code",
   "execution_count": null,
   "outputs": [],
   "source": [
    "fig = px.choropleth(\n",
    "    sdn[(sdn.Date >= '2020-03-12') &\n",
    "        (pd.to_datetime(sdn.Date) <= pd.to_datetime(sdn.Date.max()) - pd.Timedelta(days=1))],\n",
    "    locationmode='USA-states',\n",
    "    locations='state_abbr',\n",
    "    color='rolling_growth_rate',\n",
    "    animation_frame='Date',\n",
    "    animation_group='State',\n",
    "    hover_name=\"State\",\n",
    "    hover_data=['Date', 'Confirmed', 'Deaths', 'today', 'yesterday',\n",
    "                'growth_rate'],\n",
    "    color_continuous_scale=px.colors.diverging.RdYlGn_r,\n",
    "    color_continuous_midpoint=0,\n",
    "    range_color=[-1,1],\n",
    "    projection='albers usa',\n",
    "    title=f'COVID-19 Confirmed Cases Rolling 14-Day Average Growth Rate<br>'\n",
    "          f'Source: <a href=\"https://github.com/CSSEGISandData/COVID-19/tree/master/csse_covid_19_data\">'\n",
    "          f'JHU CSSE COVID-19 Dataset</a>'\n",
    "    )\n",
    "fig.update_layout(\n",
    "    coloraxis_colorbar=dict(\n",
    "        title='Rolling Growth Rate'\n",
    "        )\n",
    "    )\n",
    "fig.write_html('../charts/united_states_confirmed_cases_rolling_14-Day_average_growth_rate_map.html')"
   ],
   "metadata": {
    "collapsed": false,
    "pycharm": {
     "name": "#%%\n",
     "is_executing": true
    }
   }
  },
  {
   "cell_type": "code",
   "execution_count": null,
   "outputs": [],
   "source": [
    "scatter_data.to_csv('../data/scatter_us.csv', index=False)"
   ],
   "metadata": {
    "collapsed": false,
    "pycharm": {
     "name": "#%%\n",
     "is_executing": true
    }
   }
  }
 ],
 "metadata": {
  "kernelspec": {
   "display_name": "Python 3",
   "language": "python",
   "name": "python3"
  },
  "language_info": {
   "codemirror_mode": {
    "name": "ipython",
    "version": 2
   },
   "file_extension": ".py",
   "mimetype": "text/x-python",
   "name": "python",
   "nbconvert_exporter": "python",
   "pygments_lexer": "ipython2",
   "version": "2.7.6"
  }
 },
 "nbformat": 4,
 "nbformat_minor": 0
}