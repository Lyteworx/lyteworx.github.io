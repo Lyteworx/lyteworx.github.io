{
 "cells": [
  {
   "cell_type": "markdown",
   "source": [
    "The purpose of the code below is to download the latest COVID-19 data from \n",
    "Johns Hopkins University GitHub page, restructure it, clean it up a bit, \n",
    "and make some visualization using Plotly."
   ],
   "metadata": {
    "collapsed": false,
    "pycharm": {
     "name": "#%% md\n"
    }
   }
  },
  {
   "cell_type": "code",
   "execution_count": 5,
   "outputs": [],
   "source": [
    "# All the imports in one place\n",
    "import numpy as np\n",
    "import pandas as pd\n",
    "import os\n",
    "import subprocess\n",
    "import pycountry\n",
    "import plotly.express as px\n",
    "\n",
    "from pathlib import Path"
   ],
   "metadata": {
    "collapsed": false,
    "pycharm": {
     "name": "#%%\n"
    }
   }
  },
  {
   "cell_type": "markdown",
   "source": [
    "To make sure that the charts are always made with the latest data the next\n",
    "section launches a subprocess to run git and pull form the remote\n",
    "repository.  It does the same thing as if you opened a terminal and ran:\n",
    "\n",
    "`git pull https://github.com/CSSEGISandData/COVID-19.git`\n",
    "\n",
    "This code assumes that your local COVID-19 repo is in the same parent folder of\n",
    "as this repo, so prior to calling git the `os.chir` method is used to ensure\n",
    "you are in the right folder.  (Don't worry, we come back home after everything\n",
    "is loaded.)\n",
    "\n",
    "The output message is printed to the screen to let you know if files were\n",
    "updated or if you are already up to date."
   ],
   "metadata": {
    "collapsed": false,
    "pycharm": {
     "name": "#%% md\n"
    }
   }
  },
  {
   "cell_type": "code",
   "execution_count": 6,
   "outputs": [
    {
     "name": "stdout",
     "output_type": "stream",
     "text": [
      "Already up to date.\n",
      "\n"
     ]
    }
   ],
   "source": [
    "# assumes git is installed\n",
    "# assumes you are storing data in parent directory\n",
    "\n",
    "os.chdir('../data/COVID-19')\n",
    "cmd = ['git', 'pull', 'https://github.com/CSSEGISandData/COVID-19.git']\n",
    "out = subprocess.run(cmd, stdout=subprocess.PIPE)\n",
    "print(out.stdout.decode())"
   ],
   "metadata": {
    "collapsed": false,
    "pycharm": {
     "name": "#%%\n"
    }
   }
  },
  {
   "cell_type": "markdown",
   "source": [
    "We now have to define the path to the time series data and load them into\n",
    "Pandas data frames.  JHU organizes the confirmed cases and deaths data\n",
    "separately.  Here you see that the `Path` class was used from the `pathlib`\n",
    "module.  This is a little extra, but it allows the code to be platform\n",
    "agnostic.\n",
    "\n",
    "Since we're done loading the JHU data we can go home again using the `os.chir`\n",
    "command.  You may have to change this based on your structure and how you\n",
    "name your project."
   ],
   "metadata": {
    "collapsed": false,
    "pycharm": {
     "name": "#%% md\n"
    }
   }
  },
  {
   "cell_type": "code",
   "execution_count": 7,
   "outputs": [],
   "source": [
    "gl_confirmed_path = Path().joinpath('csse_covid_19_data',\n",
    "                            'csse_covid_19_time_series',\n",
    "                            'time_series_covid19_confirmed_global.csv')\n",
    "\n",
    "gl_death_path = Path().joinpath('csse_covid_19_data',\n",
    "                            'csse_covid_19_time_series',\n",
    "                            'time_series_covid19_deaths_global.csv')\n",
    "\n",
    "gl_c = pd.read_csv(gl_confirmed_path)\n",
    "gl_d = pd.read_csv(gl_death_path)\n",
    "\n",
    "os.chdir('../../scripts/')"
   ],
   "metadata": {
    "collapsed": false,
    "pycharm": {
     "name": "#%%\n"
    }
   }
  },
  {
   "cell_type": "markdown",
   "source": [
    "For the charts I want to make I need to know the continent for each country. I\n",
    "grabbed a file of countries and continents from\n",
    "https://datahub.io/JohnSnowLabs/country-and-continent-codes-list and put it in\n",
    "my data folder.\n",
    "\n",
    "To build a dictionary of just the country names and its continent.  I do it by\n",
    "1. Loading the `csv` into a data frame (`df_con`)\n",
    "2. Create a dictionary\n",
    "3. Iterate over `df_con` row by row using `itertuples`\n",
    "4. Assign key/value pairs accessing the data with dot notation\n",
    "\n",
    "There are some country names that are in the JHU data but not in the `csv`.  At\n",
    "this point I decided to add the JHU names to this dictionary rather than change\n",
    "the JHU names.  For a different purpose I'll change JHU the names to conform\n",
    "with ISO standards, but for now I'll just update the dictionary I just loaded."
   ],
   "metadata": {
    "collapsed": false,
    "pycharm": {
     "name": "#%% md\n"
    }
   }
  },
  {
   "cell_type": "code",
   "execution_count": 8,
   "outputs": [],
   "source": [
    "df_con = pd.read_csv('../data/country-and-continent-codes-list.csv')\n",
    "continent_map = dict()\n",
    "for row in df_con.itertuples():\n",
    "    continent_map[row.Country_Name] = row.Continent_Name\n",
    "continent_map.update({'US': 'North America', 'UK': 'Europe',\n",
    "                      'Cabo Verde': 'Africa', 'Congo (Brazzaville)': 'Africa',\n",
    "                      'Congo (Kinshasa)': 'Africa', 'Czechia': 'Europe',\n",
    "                      'Diamond Princess': 'Asia', 'Eswatini': 'Africa',\n",
    "                      'Korea, South': 'Asia', 'Kyrgyzstan': 'Asia',\n",
    "                      'North Macedonia': 'Europe', 'Taiwan*': 'Asia',\n",
    "                      'Laos': 'Asia', 'West Bank and Gaza': 'Asia',\n",
    "                      'Kosovo': 'Europe', 'Burma': 'Asia',\n",
    "                      'MS Zaandam': 'North America'})\n"
   ],
   "metadata": {
    "collapsed": false,
    "pycharm": {
     "name": "#%%\n"
    }
   }
  },
  {
   "cell_type": "markdown",
   "source": [
    "This next section actually does a lot of heavy lifting.  This code is needed to\n",
    "get the data in a structure that's way easier for making charts.  In JHU time\n",
    "series files they add a column with numbers for that day.\n",
    "It looks like this:"
   ],
   "metadata": {
    "collapsed": false,
    "pycharm": {
     "name": "#%% md\n"
    }
   }
  },
  {
   "cell_type": "code",
   "execution_count": 9,
   "outputs": [
    {
     "data": {
      "text/plain": "  Province/State Country/Region      Lat     Long  1/22/20  1/23/20  1/24/20  \\\n0            NaN    Afghanistan  33.0000  65.0000        0        0        0   \n1            NaN        Albania  41.1533  20.1683        0        0        0   \n2            NaN        Algeria  28.0339   1.6596        0        0        0   \n3            NaN        Andorra  42.5063   1.5218        0        0        0   \n4            NaN         Angola -11.2027  17.8739        0        0        0   \n\n   1/25/20  1/26/20  1/27/20  ...  4/28/20  4/29/20  4/30/20  5/1/20  5/2/20  \\\n0        0        0        0  ...     1828     1939     2171    2335    2469   \n1        0        0        0  ...      750      766      773     782     789   \n2        0        0        0  ...     3649     3848     4006    4154    4295   \n3        0        0        0  ...      743      743      745     745     747   \n4        0        0        0  ...       27       27       27      30      35   \n\n   5/3/20  5/4/20  5/5/20  5/6/20  5/7/20  \n0    2704    2894    3224    3392    3563  \n1     795     803     820     832     842  \n2    4474    4648    4838    4997    5182  \n3     748     750     751     751     752  \n4      35      35      36      36      36  \n\n[5 rows x 111 columns]",
      "text/html": "<div>\n<style scoped>\n    .dataframe tbody tr th:only-of-type {\n        vertical-align: middle;\n    }\n\n    .dataframe tbody tr th {\n        vertical-align: top;\n    }\n\n    .dataframe thead th {\n        text-align: right;\n    }\n</style>\n<table border=\"1\" class=\"dataframe\">\n  <thead>\n    <tr style=\"text-align: right;\">\n      <th></th>\n      <th>Province/State</th>\n      <th>Country/Region</th>\n      <th>Lat</th>\n      <th>Long</th>\n      <th>1/22/20</th>\n      <th>1/23/20</th>\n      <th>1/24/20</th>\n      <th>1/25/20</th>\n      <th>1/26/20</th>\n      <th>1/27/20</th>\n      <th>...</th>\n      <th>4/28/20</th>\n      <th>4/29/20</th>\n      <th>4/30/20</th>\n      <th>5/1/20</th>\n      <th>5/2/20</th>\n      <th>5/3/20</th>\n      <th>5/4/20</th>\n      <th>5/5/20</th>\n      <th>5/6/20</th>\n      <th>5/7/20</th>\n    </tr>\n  </thead>\n  <tbody>\n    <tr>\n      <th>0</th>\n      <td>NaN</td>\n      <td>Afghanistan</td>\n      <td>33.0000</td>\n      <td>65.0000</td>\n      <td>0</td>\n      <td>0</td>\n      <td>0</td>\n      <td>0</td>\n      <td>0</td>\n      <td>0</td>\n      <td>...</td>\n      <td>1828</td>\n      <td>1939</td>\n      <td>2171</td>\n      <td>2335</td>\n      <td>2469</td>\n      <td>2704</td>\n      <td>2894</td>\n      <td>3224</td>\n      <td>3392</td>\n      <td>3563</td>\n    </tr>\n    <tr>\n      <th>1</th>\n      <td>NaN</td>\n      <td>Albania</td>\n      <td>41.1533</td>\n      <td>20.1683</td>\n      <td>0</td>\n      <td>0</td>\n      <td>0</td>\n      <td>0</td>\n      <td>0</td>\n      <td>0</td>\n      <td>...</td>\n      <td>750</td>\n      <td>766</td>\n      <td>773</td>\n      <td>782</td>\n      <td>789</td>\n      <td>795</td>\n      <td>803</td>\n      <td>820</td>\n      <td>832</td>\n      <td>842</td>\n    </tr>\n    <tr>\n      <th>2</th>\n      <td>NaN</td>\n      <td>Algeria</td>\n      <td>28.0339</td>\n      <td>1.6596</td>\n      <td>0</td>\n      <td>0</td>\n      <td>0</td>\n      <td>0</td>\n      <td>0</td>\n      <td>0</td>\n      <td>...</td>\n      <td>3649</td>\n      <td>3848</td>\n      <td>4006</td>\n      <td>4154</td>\n      <td>4295</td>\n      <td>4474</td>\n      <td>4648</td>\n      <td>4838</td>\n      <td>4997</td>\n      <td>5182</td>\n    </tr>\n    <tr>\n      <th>3</th>\n      <td>NaN</td>\n      <td>Andorra</td>\n      <td>42.5063</td>\n      <td>1.5218</td>\n      <td>0</td>\n      <td>0</td>\n      <td>0</td>\n      <td>0</td>\n      <td>0</td>\n      <td>0</td>\n      <td>...</td>\n      <td>743</td>\n      <td>743</td>\n      <td>745</td>\n      <td>745</td>\n      <td>747</td>\n      <td>748</td>\n      <td>750</td>\n      <td>751</td>\n      <td>751</td>\n      <td>752</td>\n    </tr>\n    <tr>\n      <th>4</th>\n      <td>NaN</td>\n      <td>Angola</td>\n      <td>-11.2027</td>\n      <td>17.8739</td>\n      <td>0</td>\n      <td>0</td>\n      <td>0</td>\n      <td>0</td>\n      <td>0</td>\n      <td>0</td>\n      <td>...</td>\n      <td>27</td>\n      <td>27</td>\n      <td>27</td>\n      <td>30</td>\n      <td>35</td>\n      <td>35</td>\n      <td>35</td>\n      <td>36</td>\n      <td>36</td>\n      <td>36</td>\n    </tr>\n  </tbody>\n</table>\n<p>5 rows × 111 columns</p>\n</div>"
     },
     "execution_count": 9,
     "metadata": {},
     "output_type": "execute_result"
    }
   ],
   "source": [
    "gl_c.head(5)"
   ],
   "metadata": {
    "collapsed": false,
    "pycharm": {
     "name": "#%%\n"
    }
   }
  },
  {
   "cell_type": "markdown",
   "source": [
    "To get it in the structure I want it in I\n",
    " 1. Group it by *Country/Region* `gl_c.groupby('Country/Region')`\n",
    " 2. Add up the numbers to get the all the states/provinces for that country:\n",
    "   `.sum()`\n",
    " 3. Slice it to exclude the *Lat* and *Long* columns: `.iloc[:, 2:]`\n",
    " 4. Unstack it (similar result as transpose): `.unstack()`\n",
    " 5. Reset the index to put the country name on each row: `.reset_index()`\n",
    "\n",
    "It end up looking like this:"
   ],
   "metadata": {
    "collapsed": false,
    "pycharm": {
     "name": "#%% md\n"
    }
   }
  },
  {
   "cell_type": "code",
   "execution_count": 10,
   "outputs": [
    {
     "data": {
      "text/plain": "      level_0      Country/Region    0\n20004  5/7/20  West Bank and Gaza  375\n20005  5/7/20      Western Sahara    6\n20006  5/7/20               Yemen   25\n20007  5/7/20              Zambia  153\n20008  5/7/20            Zimbabwe   34",
      "text/html": "<div>\n<style scoped>\n    .dataframe tbody tr th:only-of-type {\n        vertical-align: middle;\n    }\n\n    .dataframe tbody tr th {\n        vertical-align: top;\n    }\n\n    .dataframe thead th {\n        text-align: right;\n    }\n</style>\n<table border=\"1\" class=\"dataframe\">\n  <thead>\n    <tr style=\"text-align: right;\">\n      <th></th>\n      <th>level_0</th>\n      <th>Country/Region</th>\n      <th>0</th>\n    </tr>\n  </thead>\n  <tbody>\n    <tr>\n      <th>20004</th>\n      <td>5/7/20</td>\n      <td>West Bank and Gaza</td>\n      <td>375</td>\n    </tr>\n    <tr>\n      <th>20005</th>\n      <td>5/7/20</td>\n      <td>Western Sahara</td>\n      <td>6</td>\n    </tr>\n    <tr>\n      <th>20006</th>\n      <td>5/7/20</td>\n      <td>Yemen</td>\n      <td>25</td>\n    </tr>\n    <tr>\n      <th>20007</th>\n      <td>5/7/20</td>\n      <td>Zambia</td>\n      <td>153</td>\n    </tr>\n    <tr>\n      <th>20008</th>\n      <td>5/7/20</td>\n      <td>Zimbabwe</td>\n      <td>34</td>\n    </tr>\n  </tbody>\n</table>\n</div>"
     },
     "execution_count": 10,
     "metadata": {},
     "output_type": "execute_result"
    }
   ],
   "source": [
    "c = gl_c.groupby('Country/Region').sum().iloc[:, 2:].unstack().reset_index()\n",
    "c.tail(5)"
   ],
   "metadata": {
    "collapsed": false,
    "pycharm": {
     "name": "#%%\n"
    }
   }
  },
  {
   "cell_type": "markdown",
   "source": [
    "Next we do the same transform on the death data frame and combine the two\n",
    "frames merging on the date and country.  Then take care of some housekeeping by\n",
    "renaming the the columns to be more descriptive and useful."
   ],
   "metadata": {
    "collapsed": false,
    "pycharm": {
     "name": "#%% md\n"
    }
   }
  },
  {
   "cell_type": "code",
   "execution_count": 11,
   "outputs": [],
   "source": [
    "d = gl_d.groupby('Country/Region').sum().iloc[:, 2:].unstack().reset_index()\n",
    "df = pd.merge(c, d, on=['level_0', 'Country/Region'])\n",
    "new_names = {'level_0': 'Date', 'Country/Region': 'Country',\n",
    "             '0_x': 'Confirmed', '0_y': 'Deaths'}\n",
    "df = df.rename(columns=new_names)"
   ],
   "metadata": {
    "collapsed": false,
    "pycharm": {
     "name": "#%%\n"
    }
   }
  },
  {
   "cell_type": "markdown",
   "source": [
    "Reformat the *Date* to be standardized."
   ],
   "metadata": {
    "collapsed": false,
    "pycharm": {
     "name": "#%% md\n"
    }
   }
  },
  {
   "cell_type": "code",
   "execution_count": 12,
   "outputs": [],
   "source": [
    "df['Date'] = pd.to_datetime(df['Date']).dt.strftime(\"%Y-%m-%d\")"
   ],
   "metadata": {
    "collapsed": false,
    "pycharm": {
     "name": "#%%\n"
    }
   }
  },
  {
   "cell_type": "markdown",
   "source": [
    "Combine all rows that have the same country name and date. (This might not\n",
    "actually be needed, but I probably added it to fix something that was broken.)"
   ],
   "metadata": {
    "collapsed": false,
    "pycharm": {
     "name": "#%% md\n"
    }
   }
  },
  {
   "cell_type": "code",
   "execution_count": 13,
   "outputs": [],
   "source": [
    "df = df.groupby(['Date', 'Country']).sum().reset_index() # combine duplicate rows"
   ],
   "metadata": {
    "collapsed": false,
    "pycharm": {
     "name": "#%%\n"
    }
   }
  },
  {
   "cell_type": "markdown",
   "source": [
    "Create the *Death Rate* percentage, replace NAN values with 1, and round to two\n",
    "decimal places."
   ],
   "metadata": {
    "collapsed": false,
    "pycharm": {
     "name": "#%% md\n"
    }
   }
  },
  {
   "cell_type": "code",
   "execution_count": 14,
   "outputs": [],
   "source": [
    "df['Death Rate'] = (df.Deaths / df.Confirmed * 100).fillna(1).round(2)"
   ],
   "metadata": {
    "collapsed": false,
    "pycharm": {
     "name": "#%%\n"
    }
   }
  },
  {
   "cell_type": "markdown",
   "source": [
    "One of my favorite ways to set values in Pandas is to first get make an index\n",
    "of all the rows that match the conditions for the change I need to make.  Then\n",
    "I use the `.at` method to set the value I want.\n",
    "\n",
    "Below I make a bubble chart and the size of the bubble is based on the *Death\n",
    "Rate*.  If no one has died yet then the size of the bubble is zero, then you\n",
    "can't see the bubble at all.  Here I find all the rows where *Death Rate* is\n",
    "zero and change it to one."
   ],
   "metadata": {
    "collapsed": false,
    "pycharm": {
     "name": "#%% md\n"
    }
   }
  },
  {
   "cell_type": "code",
   "execution_count": 15,
   "outputs": [],
   "source": [
    "idx = df[df['Death Rate'] == 0].index\n",
    "df.at[idx, 'Death Rate'] = 1  # controls the bubble size"
   ],
   "metadata": {
    "collapsed": false,
    "pycharm": {
     "name": "#%%\n"
    }
   }
  },
  {
   "cell_type": "markdown",
   "source": [
    "Here is a little function that is used to add the continent name to\n",
    "the main data frame.  It takes the country name and returns which continent it\n",
    "is on.  It has a little bit of lazy search by looking for the country in the\n",
    "key.\n",
    "\n",
    "This is a good example of how to use the `.apply` method in Pandas.  It was\n",
    "after using this function that I learned which *key/value* pairs I have to add\n",
    "to the `continent_map` dictionary."
   ],
   "metadata": {
    "collapsed": false,
    "pycharm": {
     "name": "#%% md\n"
    }
   }
  },
  {
   "cell_type": "code",
   "execution_count": 16,
   "outputs": [],
   "source": [
    "def find_continent(country):\n",
    "    for key, value in continent_map.items():\n",
    "        if country in key:\n",
    "            return value\n",
    "\n",
    "df['Continent'] = df.Country.apply(find_continent)  # assign continent"
   ],
   "metadata": {
    "collapsed": false,
    "pycharm": {
     "name": "#%%\n"
    }
   }
  },
  {
   "cell_type": "markdown",
   "source": [
    "I found that in the data there are sometime negative entries.  Think these were\n",
    "reported to correct previously over-reported numbers, but I'm not really sure.\n",
    "I clean this up quick and dirty by finding the negative values and setting them\n",
    "to zero.  If in fact negative numbers are reported to correct the data, then\n",
    "my numbers will be higher than other. It might be worth going back and fixing\n",
    "the number correctly by modifying the previous value. But for now, this will\n",
    "do."
   ],
   "metadata": {
    "collapsed": false,
    "pycharm": {
     "name": "#%% md\n"
    }
   }
  },
  {
   "cell_type": "code",
   "execution_count": 17,
   "outputs": [],
   "source": [
    "idx = df[df['Confirmed'] < 0].index\n",
    "df.at[idx, 'Confirmed'] = 0 # no negative cases allowed\n",
    "\n",
    "idx = df[df['Deaths'] < 0].index\n",
    "df.at[idx, 'Deaths'] = 0 # no negative deaths allowed\n",
    "\n",
    "# people on Antarctica are social distancing enough.\n",
    "idx = df[df.Continent == 'Antarctica'].index\n",
    "df.drop(idx, inplace=True)\n"
   ],
   "metadata": {
    "collapsed": false,
    "pycharm": {
     "name": "#%%\n"
    }
   }
  },
  {
   "cell_type": "markdown",
   "source": [
    "Using the [choropleth](https://plotly.com/python/choropleth-maps/) library in\n",
    "Plotly requires that the countries are described by their 3-letter\n",
    "abbreviation.  I have identified the main offenders and build a\n",
    "`country_correction` dictionary with the country names that I know will be\n",
    "recognized by the `pycountry` package that I use to lookup the ISO `alpha_3`.\n",
    "\n",
    "I don't like nest `try except` statements but I couldn't figure out a cleaner\n",
    "way to take care of this.  Let me know if you have a better way.\n",
    "(richard.payton@lytworx.com)"
   ],
   "metadata": {
    "collapsed": false,
    "pycharm": {
     "name": "#%% md\n"
    }
   }
  },
  {
   "cell_type": "code",
   "execution_count": 18,
   "outputs": [
    {
     "name": "stdout",
     "output_type": "stream",
     "text": [
      "No country data for Diamond Princess.\n",
      "No country data for MS Zaandam.\n"
     ]
    }
   ],
   "source": [
    "country_correction = {\n",
    "    'Burma': 'Myanmar',\n",
    "    'Congo (Brazzaville)': 'Republic of the Congo',\n",
    "    'Congo (Kinshasa)': 'Congo, The Democratic Republic of the',\n",
    "    'Korea, South': 'Korea, Republic of',\n",
    "    'Laos': \"Lao People's Democratic Republic\",\n",
    "    'Taiwan*': 'Taiwan',\n",
    "    'West Bank and Gaza': 'Palestine, State of',\n",
    "    }\n",
    "for key, value in country_correction.items():\n",
    "    idx = df[df.Country == key].index\n",
    "    df.at[idx, 'Country'] = value\n",
    "\n",
    "def assign_alpha(x):\n",
    "    try:\n",
    "        a = pycountry.countries.get(name=x).alpha_3\n",
    "        return a\n",
    "    except AttributeError:\n",
    "        try:\n",
    "            a = pycountry.countries.get(common_name=x).alpha_3\n",
    "            return a\n",
    "        except AttributeError:\n",
    "            try:\n",
    "                a = pycountry.countries.search_fuzzy(x)\n",
    "                a = a[0].alpha_3\n",
    "                return a\n",
    "            except LookupError:\n",
    "                print(f'No country data for {x}.')\n",
    "                return x\n",
    "\n",
    "for c in df.Country.unique():\n",
    "    idx = df[df.Country == c].index\n",
    "    df.at[idx, 'iso_alpha_3'] = assign_alpha(c)"
   ],
   "metadata": {
    "collapsed": false,
    "pycharm": {
     "name": "#%% ISO country repair\n"
    }
   }
  },
  {
   "cell_type": "markdown",
   "source": [
    "In order to set my scale on some of the color coded plots I need to know the\n",
    "max values for each country over the entire time span.  I loop through all the\n",
    "unique country names, find the max value and append to the `max_list`.  This is\n",
    "useful for setting the scale to max at the 99th percentile so that the\n",
    "numbers in the United States don't blow out the scale."
   ],
   "metadata": {
    "collapsed": false,
    "pycharm": {
     "name": "#%% md\n"
    }
   }
  },
  {
   "cell_type": "code",
   "execution_count": 19,
   "outputs": [],
   "source": [
    "max_list = list()\n",
    "for c in df.Country.unique():\n",
    "    max_list.append(df.Confirmed[df.Country == c].max())"
   ],
   "metadata": {
    "collapsed": false,
    "pycharm": {
     "name": "#%%\n"
    }
   }
  },
  {
   "cell_type": "markdown",
   "source": [
    "Now we are ready to make plots!  This will create a choropleth (shaded map)\n",
    "that shows the number of confirmed cases.  It is an animated figure that\n",
    "progresses from 14 Feb 2020 to whenever the data ends. Notice that the Plotly\n",
    "title knows how to parse HTML (and my use of `f` strings.)"
   ],
   "metadata": {
    "collapsed": false,
    "pycharm": {
     "name": "#%% md\n"
    }
   }
  },
  {
   "cell_type": "code",
   "execution_count": 20,
   "outputs": [],
   "source": [
    "q = 99\n",
    "cmax = int(np.percentile(max_list, q))\n",
    "\n",
    "fig = px.choropleth(\n",
    "    df[df.Date >= '2020-02-14'],\n",
    "    locations=\"iso_alpha_3\",\n",
    "    color=\"Confirmed\",\n",
    "    animation_frame='Date',\n",
    "    animation_group='Country',\n",
    "    hover_name=\"Country\",\n",
    "    color_continuous_scale=px.colors.diverging.Portland,\n",
    "    range_color=[0,cmax],\n",
    "    projection='natural earth',\n",
    "    title=f'COVID-19 Confirmed Cases (scale maxed at {q}th percentile: {cmax:,})<br>'\n",
    "          f'Source:<a href=\"https://github.com/CSSEGISandData/COVID-19/tree/master/csse_covid_19_data\">'\n",
    "          f'JHU CSSE COVID-19 Dataset</a>'\n",
    "    )\n",
    "# fig.show()\n",
    "fig.write_html('../charts/global_confirmed_cases_map.html')"
   ],
   "metadata": {
    "collapsed": false,
    "pycharm": {
     "name": "#%%\n"
    }
   }
  },
  {
   "cell_type": "markdown",
   "source": [
    "This will create an animated bubble chart that shows the number of deaths\n",
    "versus the number of cases.  The size of the bubble is determined by the death\n",
    "rate percentage calculated above."
   ],
   "metadata": {
    "collapsed": false,
    "pycharm": {
     "name": "#%% md\n"
    }
   }
  },
  {
   "cell_type": "code",
   "execution_count": 21,
   "outputs": [],
   "source": [
    "days = df.Date.unique()\n",
    "fig = px.scatter(\n",
    "    data_frame=df,\n",
    "    x='Confirmed',\n",
    "    y='Deaths',\n",
    "    animation_frame='Date',\n",
    "    animation_group='Country',\n",
    "    size='Death Rate',\n",
    "    color='Continent',\n",
    "    hover_name='Country',\n",
    "    size_max=100,\n",
    "    title=f'COVID-19 Confirmed Cases<br>'\n",
    "          f'Source:<a href=\"https://github.com/CSSEGISandData/COVID-19/tree/master/csse_covid_19_data\">'\n",
    "          f'JHU CSSE COVID-19 Dataset</a>',\n",
    "    category_orders={'Day':days}\n",
    ")\n",
    "fig.update_layout(width=1200)\n",
    "# fig.show()\n",
    "fig.write_html(\"../charts/global_confirmed_cases_bubble_chart.html\")"
   ],
   "metadata": {
    "collapsed": false,
    "pycharm": {
     "name": "#%%\n"
    }
   }
  },
  {
   "cell_type": "markdown",
   "source": [
    "This is another figure with bubble charts, using all the same data as the\n",
    "previous figure, but making a separate chart for each continent."
   ],
   "metadata": {
    "collapsed": false,
    "pycharm": {
     "name": "#%% md\n"
    }
   }
  },
  {
   "cell_type": "code",
   "execution_count": 22,
   "outputs": [],
   "source": [
    "fig = px.scatter(\n",
    "    data_frame=df,\n",
    "    x='Confirmed',\n",
    "    y='Deaths',\n",
    "    animation_frame='Date',\n",
    "    animation_group='Country',\n",
    "    size='Death Rate',\n",
    "    color='Country',\n",
    "    hover_name='Country',\n",
    "    facet_col='Continent',\n",
    "    facet_col_wrap=3,\n",
    "    size_max=75,\n",
    "    title=f'COVID-19 Confirmed Cases<br>'\n",
    "          f'Source:<a href=\"https://github.com/CSSEGISandData/COVID-19/tree/master/csse_covid_19_data\">'\n",
    "          f'JHU CSSE COVID-19 Dataset</a>',\n",
    "    category_orders={'Day':days}\n",
    ")\n",
    "fig.update_layout(width=1200)\n",
    "# fig.show()\n",
    "fig.write_html(\"../charts/global_confirmed_cases_bubble_chart_per_continent.html\")"
   ],
   "metadata": {
    "collapsed": false,
    "pycharm": {
     "name": "#%%\n"
    }
   }
  },
  {
   "cell_type": "markdown",
   "source": [],
   "metadata": {
    "collapsed": false,
    "pycharm": {
     "name": "#%% md\n"
    }
   }
  },
  {
   "cell_type": "code",
   "execution_count": 24,
   "outputs": [],
   "source": [
    "def split_by_state(country, df):\n",
    "    df = df[df.Country == country].copy()\n",
    "    return df\n",
    "\n",
    "def calc_growth_rate(df):\n",
    "    #calc growth rate\n",
    "    df['today'] = df.Confirmed.diff().fillna(0)\n",
    "    df['yesterday'] = df.today.shift(1).fillna(method='ffill')\n",
    "    df['growth_rate'] = (df['today'] / df['yesterday'] - 1).round(3)\n",
    "    df['growth_rate'] = df['growth_rate'].replace([np.inf, -np.inf], np.nan)\n",
    "    df['growth_rate'] = df['growth_rate'].fillna(method='ffill')\n",
    "    # calc rolling growth rate\n",
    "    df['Date'] = pd.to_datetime(df['Date'])\n",
    "    df = df.set_index('Date', drop=False)\n",
    "    df = df.sort_index()\n",
    "    df['rolling_growth_rate'] = df['growth_rate'].clip(-5,5).rolling('14d').mean().round(3)\n",
    "    df['Date'] = df['Date'].apply(lambda x: x.strftime('%Y-%m-%d'))\n",
    "    return df\n",
    "\n",
    "df_c = list()\n",
    "for c in df.Country.unique():\n",
    "    df_c.append(split_by_state(c, df))\n",
    "\n",
    "new_dfs = list()\n",
    "for d in df_c:\n",
    "    new_dfs.append(calc_growth_rate(d))\n",
    "\n",
    "sdn = pd.concat(new_dfs, ignore_index=True)\n",
    "sdn.reset_index(drop=True)\n",
    "sdn.to_csv('../data/global_confirmed_growth_rate.csv', index=False)"
   ],
   "metadata": {
    "collapsed": false,
    "pycharm": {
     "name": "#%% growth rate\n"
    }
   }
  },
  {
   "cell_type": "code",
   "execution_count": 25,
   "outputs": [],
   "source": [
    "fig = px.choropleth(\n",
    "    sdn[(sdn.Date >= '2020-01-01') &\n",
    "        (pd.to_datetime(sdn.Date) <= pd.to_datetime(sdn.Date.max()) - pd.Timedelta(days=1))],\n",
    "    locations='iso_alpha_3',\n",
    "    color='rolling_growth_rate',\n",
    "    animation_frame='Date',\n",
    "    animation_group='Country',\n",
    "    hover_name=\"Country\",\n",
    "    hover_data=['Date', 'Confirmed', 'Deaths', 'today', 'yesterday',\n",
    "                'growth_rate'],\n",
    "    color_continuous_scale=px.colors.diverging.RdYlGn_r,\n",
    "    color_continuous_midpoint=0,\n",
    "    range_color=[-1,1],\n",
    "    projection='natural earth',\n",
    "    title=f'COVID-19 Confirmed Cases Rolling 14-Day Average Growth Rate<br>'\n",
    "          f'Source: <a href=\"https://github.com/CSSEGISandData/COVID-19/tree/master/csse_covid_19_data\">'\n",
    "          f'JHU CSSE COVID-19 Dataset</a>'\n",
    "    )\n",
    "fig.update_layout(\n",
    "    coloraxis_colorbar=dict(\n",
    "        title='Rolling Growth Rate'\n",
    "        )\n",
    "    )\n",
    "fig.write_html('../charts/global_confirmed_cases_rolling_14-Day_average_growth_rate_map.html')"
   ],
   "metadata": {
    "collapsed": false,
    "pycharm": {
     "name": "#%%\n"
    }
   }
  },
  {
   "cell_type": "code",
   "execution_count": 26,
   "outputs": [
    {
     "data": {
      "text/plain": "             Date  Confirmed    today  yesterday\n18491  2020-04-18     732197  32491.0    32114.0\n18492  2020-04-19     758809  26612.0    32491.0\n18493  2020-04-20     784326  25517.0    26612.0\n18494  2020-04-21     811865  27539.0    25517.0\n18495  2020-04-22     840351  28486.0    27539.0\n18496  2020-04-23     869170  28819.0    28486.0\n18497  2020-04-24     905358  36188.0    28819.0\n18498  2020-04-25     938154  32796.0    36188.0\n18499  2020-04-26     965785  27631.0    32796.0\n18500  2020-04-27     988197  22412.0    27631.0\n18501  2020-04-28    1012582  24385.0    22412.0\n18502  2020-04-29    1039909  27327.0    24385.0\n18503  2020-04-30    1069424  29515.0    27327.0\n18504  2020-05-01    1103461  34037.0    29515.0\n18505  2020-05-02    1132539  29078.0    34037.0\n18506  2020-05-03    1158040  25501.0    29078.0\n18507  2020-05-04    1180375  22335.0    25501.0\n18508  2020-05-05    1204351  23976.0    22335.0\n18509  2020-05-06    1228603  24252.0    23976.0\n18510  2020-05-07    1257023  28420.0    24252.0",
      "text/html": "<div>\n<style scoped>\n    .dataframe tbody tr th:only-of-type {\n        vertical-align: middle;\n    }\n\n    .dataframe tbody tr th {\n        vertical-align: top;\n    }\n\n    .dataframe thead th {\n        text-align: right;\n    }\n</style>\n<table border=\"1\" class=\"dataframe\">\n  <thead>\n    <tr style=\"text-align: right;\">\n      <th></th>\n      <th>Date</th>\n      <th>Confirmed</th>\n      <th>today</th>\n      <th>yesterday</th>\n    </tr>\n  </thead>\n  <tbody>\n    <tr>\n      <th>18491</th>\n      <td>2020-04-18</td>\n      <td>732197</td>\n      <td>32491.0</td>\n      <td>32114.0</td>\n    </tr>\n    <tr>\n      <th>18492</th>\n      <td>2020-04-19</td>\n      <td>758809</td>\n      <td>26612.0</td>\n      <td>32491.0</td>\n    </tr>\n    <tr>\n      <th>18493</th>\n      <td>2020-04-20</td>\n      <td>784326</td>\n      <td>25517.0</td>\n      <td>26612.0</td>\n    </tr>\n    <tr>\n      <th>18494</th>\n      <td>2020-04-21</td>\n      <td>811865</td>\n      <td>27539.0</td>\n      <td>25517.0</td>\n    </tr>\n    <tr>\n      <th>18495</th>\n      <td>2020-04-22</td>\n      <td>840351</td>\n      <td>28486.0</td>\n      <td>27539.0</td>\n    </tr>\n    <tr>\n      <th>18496</th>\n      <td>2020-04-23</td>\n      <td>869170</td>\n      <td>28819.0</td>\n      <td>28486.0</td>\n    </tr>\n    <tr>\n      <th>18497</th>\n      <td>2020-04-24</td>\n      <td>905358</td>\n      <td>36188.0</td>\n      <td>28819.0</td>\n    </tr>\n    <tr>\n      <th>18498</th>\n      <td>2020-04-25</td>\n      <td>938154</td>\n      <td>32796.0</td>\n      <td>36188.0</td>\n    </tr>\n    <tr>\n      <th>18499</th>\n      <td>2020-04-26</td>\n      <td>965785</td>\n      <td>27631.0</td>\n      <td>32796.0</td>\n    </tr>\n    <tr>\n      <th>18500</th>\n      <td>2020-04-27</td>\n      <td>988197</td>\n      <td>22412.0</td>\n      <td>27631.0</td>\n    </tr>\n    <tr>\n      <th>18501</th>\n      <td>2020-04-28</td>\n      <td>1012582</td>\n      <td>24385.0</td>\n      <td>22412.0</td>\n    </tr>\n    <tr>\n      <th>18502</th>\n      <td>2020-04-29</td>\n      <td>1039909</td>\n      <td>27327.0</td>\n      <td>24385.0</td>\n    </tr>\n    <tr>\n      <th>18503</th>\n      <td>2020-04-30</td>\n      <td>1069424</td>\n      <td>29515.0</td>\n      <td>27327.0</td>\n    </tr>\n    <tr>\n      <th>18504</th>\n      <td>2020-05-01</td>\n      <td>1103461</td>\n      <td>34037.0</td>\n      <td>29515.0</td>\n    </tr>\n    <tr>\n      <th>18505</th>\n      <td>2020-05-02</td>\n      <td>1132539</td>\n      <td>29078.0</td>\n      <td>34037.0</td>\n    </tr>\n    <tr>\n      <th>18506</th>\n      <td>2020-05-03</td>\n      <td>1158040</td>\n      <td>25501.0</td>\n      <td>29078.0</td>\n    </tr>\n    <tr>\n      <th>18507</th>\n      <td>2020-05-04</td>\n      <td>1180375</td>\n      <td>22335.0</td>\n      <td>25501.0</td>\n    </tr>\n    <tr>\n      <th>18508</th>\n      <td>2020-05-05</td>\n      <td>1204351</td>\n      <td>23976.0</td>\n      <td>22335.0</td>\n    </tr>\n    <tr>\n      <th>18509</th>\n      <td>2020-05-06</td>\n      <td>1228603</td>\n      <td>24252.0</td>\n      <td>23976.0</td>\n    </tr>\n    <tr>\n      <th>18510</th>\n      <td>2020-05-07</td>\n      <td>1257023</td>\n      <td>28420.0</td>\n      <td>24252.0</td>\n    </tr>\n  </tbody>\n</table>\n</div>"
     },
     "execution_count": 26,
     "metadata": {},
     "output_type": "execute_result"
    }
   ],
   "source": [
    "sdn[['Date', 'Confirmed', 'today', 'yesterday']][sdn.Country == 'US'].tail(20)"
   ],
   "metadata": {
    "collapsed": false,
    "pycharm": {
     "name": "#%%\n"
    }
   }
  },
  {
   "cell_type": "code",
   "execution_count": 27,
   "outputs": [],
   "source": [
    "# little data backup never hurt anyone...\n",
    "df.to_csv('../data/scatter_global.csv', index=False)"
   ],
   "metadata": {
    "collapsed": false,
    "pycharm": {
     "name": "#%%\n"
    }
   }
  }
 ],
 "metadata": {
  "kernelspec": {
   "display_name": "Python 3",
   "language": "python",
   "name": "python3"
  },
  "language_info": {
   "codemirror_mode": {
    "name": "ipython",
    "version": 2
   },
   "file_extension": ".py",
   "mimetype": "text/x-python",
   "name": "python",
   "nbconvert_exporter": "python",
   "pygments_lexer": "ipython2",
   "version": "2.7.6"
  }
 },
 "nbformat": 4,
 "nbformat_minor": 0
}