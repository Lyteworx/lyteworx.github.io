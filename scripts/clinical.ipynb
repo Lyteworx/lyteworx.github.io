{
 "cells": [
  {
   "cell_type": "code",
   "execution_count": 1,
   "metadata": {
    "collapsed": true
   },
   "outputs": [],
   "source": [
    "import pandas as pd\n",
    "import numpy as np\n",
    "import us\n",
    "import os\n",
    "import subprocess\n",
    "from pathlib import Path\n",
    "import plotly.express as px"
   ]
  },
  {
   "cell_type": "code",
   "execution_count": 2,
   "outputs": [
    {
     "name": "stdout",
     "output_type": "stream",
     "text": [
      "Already up to date.\n",
      "\n"
     ]
    }
   ],
   "source": [
    "# assumes git is installed\n",
    "# assumes you are storing data in parent directory\n",
    "\n",
    "os.chdir('../data/covidclinicaldata')\n",
    "cmd = ['git', 'pull', 'https://github.com/mdcollab/covidclinicaldata.git']\n",
    "out = subprocess.run(cmd, stdout=subprocess.PIPE)\n",
    "print(out.stdout.decode())\n",
    "\n",
    "data_path = Path().joinpath('data')\n",
    "\n",
    "df = pd.DataFrame([])\n",
    "for csv in data_path.glob('*.csv'):\n",
    "    dft = pd.read_csv(csv)\n",
    "    df = pd.concat([df, dft])\n",
    "\n",
    "os.chdir('../../scripts')"
   ],
   "metadata": {
    "collapsed": false,
    "pycharm": {
     "name": "#%%\n"
    }
   }
  },
  {
   "cell_type": "code",
   "execution_count": 3,
   "outputs": [],
   "source": [
    "df = df.rename(columns={'temperature': 'temperature_C'})\n",
    "df['temperature_F'] = df['temperature_C'] * 9 / 5 + 32\n",
    "num_cols = []\n",
    "bool_cols = ['high_risk_exposure_occupation',\n",
    "       'high_risk_interactions', 'diabetes', 'chd', 'htn', 'cancer', 'asthma',\n",
    "       'copd', 'autoimmune_dis', 'ctab', 'labored_respiration', 'rhonchi',\n",
    "       'wheezes', 'cough', 'fever', 'sob',\n",
    "       'diarrhea', 'fatigue', 'headache', 'loss_of_smell', 'loss_of_taste',\n",
    "       'runny_nose', 'muscle_sore', 'sore_throat']\n"
   ],
   "metadata": {
    "collapsed": false,
    "pycharm": {
     "name": "#%%\n"
    }
   }
  },
  {
   "cell_type": "code",
   "execution_count": 4,
   "outputs": [],
   "source": [
    "fig = px.histogram(\n",
    "    data_frame=df,\n",
    "    x='temperature_F',\n",
    "    color='covid19_test_results',\n",
    "    marginal='rug',\n",
    "    hover_data=['age', 'high_risk_exposure_occupation',\n",
    "       'high_risk_interactions', 'diabetes', 'chd', 'htn', 'cancer', 'asthma',\n",
    "       'copd', 'autoimmune_dis'],\n",
    "    title='COVID-19 Temperature Histogram<br>'\n",
    "          'Source:<a href=\"https://github.com/mdcollab/covidclinicaldata\">'\n",
    "          'Coronavirus Disease 2019 (COVID-19) Clinical Data Repository</a>'\n",
    "    )\n",
    "fig.write_html('../charts/clinical_temperature_histogram.html')"
   ],
   "metadata": {
    "collapsed": false,
    "pycharm": {
     "name": "#%%\n"
    }
   }
  },
  {
   "cell_type": "code",
   "execution_count": 5,
   "outputs": [],
   "source": [
    "fig = px.bar(\n",
    "    data_frame=df,\n",
    "    x='diarrhea',\n",
    "    color='covid19_test_results',\n",
    "    hover_data=['age', 'high_risk_exposure_occupation',\n",
    "       'high_risk_interactions', 'diabetes', 'chd', 'htn', 'cancer', 'asthma',\n",
    "       'copd', 'autoimmune_dis'],\n",
    "    title='COVID-19 Diarrhea<br>'\n",
    "          'Source:<a href=\"https://github.com/mdcollab/covidclinicaldata\">'\n",
    "          'Coronavirus Disease 2019 (COVID-19) Clinical Data Repository</a>'\n",
    "    )\n",
    "# fig.write_html('../lyteworx.github.io/charts/covid19_diarrhea_bar.html')"
   ],
   "metadata": {
    "collapsed": false,
    "pycharm": {
     "name": "#%%\n"
    }
   }
  },
  {
   "cell_type": "code",
   "execution_count": 6,
   "outputs": [],
   "source": [
    "corr_cols = ['age', 'temperature_F', 'pulse', 'sys', 'dia', 'rr',\n",
    "       'sats', 'days_since_symptom_onset']\n",
    "corr = df[corr_cols].corr()\n",
    "fig = px.imshow(\n",
    "    corr,\n",
    "    x=corr_cols,\n",
    "    y=corr_cols,\n",
    "    color_continuous_scale=px.colors.diverging.Picnic,\n",
    "    color_continuous_midpoint=0\n",
    "\n",
    "    )\n",
    "# fig.write_html('../charts/numerical_symptom_correlation_matrix.html')\n"
   ],
   "metadata": {
    "collapsed": false,
    "pycharm": {
     "name": "#%%\n"
    }
   }
  },
  {
   "cell_type": "code",
   "execution_count": 7,
   "outputs": [
    {
     "data": {
      "text/plain": "                                 x                              y     value\n0    high_risk_exposure_occupation  high_risk_exposure_occupation  1.000000\n1           high_risk_interactions  high_risk_exposure_occupation  0.304078\n2                         diabetes  high_risk_exposure_occupation -0.115168\n3                              chd  high_risk_exposure_occupation  0.060971\n4                              htn  high_risk_exposure_occupation -0.072936\n..                             ...                            ...       ...\n571                  loss_of_smell                    sore_throat  0.398251\n572                  loss_of_taste                    sore_throat  0.473866\n573                     runny_nose                    sore_throat  0.557676\n574                    muscle_sore                    sore_throat  0.489507\n575                    sore_throat                    sore_throat  1.000000\n\n[576 rows x 3 columns]",
      "text/html": "<div>\n<style scoped>\n    .dataframe tbody tr th:only-of-type {\n        vertical-align: middle;\n    }\n\n    .dataframe tbody tr th {\n        vertical-align: top;\n    }\n\n    .dataframe thead th {\n        text-align: right;\n    }\n</style>\n<table border=\"1\" class=\"dataframe\">\n  <thead>\n    <tr style=\"text-align: right;\">\n      <th></th>\n      <th>x</th>\n      <th>y</th>\n      <th>value</th>\n    </tr>\n  </thead>\n  <tbody>\n    <tr>\n      <th>0</th>\n      <td>high_risk_exposure_occupation</td>\n      <td>high_risk_exposure_occupation</td>\n      <td>1.000000</td>\n    </tr>\n    <tr>\n      <th>1</th>\n      <td>high_risk_interactions</td>\n      <td>high_risk_exposure_occupation</td>\n      <td>0.304078</td>\n    </tr>\n    <tr>\n      <th>2</th>\n      <td>diabetes</td>\n      <td>high_risk_exposure_occupation</td>\n      <td>-0.115168</td>\n    </tr>\n    <tr>\n      <th>3</th>\n      <td>chd</td>\n      <td>high_risk_exposure_occupation</td>\n      <td>0.060971</td>\n    </tr>\n    <tr>\n      <th>4</th>\n      <td>htn</td>\n      <td>high_risk_exposure_occupation</td>\n      <td>-0.072936</td>\n    </tr>\n    <tr>\n      <th>...</th>\n      <td>...</td>\n      <td>...</td>\n      <td>...</td>\n    </tr>\n    <tr>\n      <th>571</th>\n      <td>loss_of_smell</td>\n      <td>sore_throat</td>\n      <td>0.398251</td>\n    </tr>\n    <tr>\n      <th>572</th>\n      <td>loss_of_taste</td>\n      <td>sore_throat</td>\n      <td>0.473866</td>\n    </tr>\n    <tr>\n      <th>573</th>\n      <td>runny_nose</td>\n      <td>sore_throat</td>\n      <td>0.557676</td>\n    </tr>\n    <tr>\n      <th>574</th>\n      <td>muscle_sore</td>\n      <td>sore_throat</td>\n      <td>0.489507</td>\n    </tr>\n    <tr>\n      <th>575</th>\n      <td>sore_throat</td>\n      <td>sore_throat</td>\n      <td>1.000000</td>\n    </tr>\n  </tbody>\n</table>\n<p>576 rows × 3 columns</p>\n</div>"
     },
     "execution_count": 7,
     "metadata": {},
     "output_type": "execute_result"
    }
   ],
   "source": [
    "for c in bool_cols:\n",
    "    idx = df[df[c] == True].index\n",
    "    df.at[idx, c] = 1\n",
    "    idx = df[df[c] == False].index\n",
    "    df.at[idx, c] = -1\n",
    "    df[c] = df[c].fillna(0)\n",
    "\n",
    "bool_corr_pos = df[bool_cols][df.covid19_test_results == 'Positive'].corr()\n",
    "bool_corr_pos = pd.melt(bool_corr_pos.reset_index(), id_vars='index')\n",
    "bool_corr_pos.columns = ['x', 'y', 'value']\n",
    "\n",
    "bool_corr_neg = df[bool_cols][df.covid19_test_results == 'Negative'].corr()\n",
    "bool_corr_neg = pd.melt(bool_corr_neg.reset_index(), id_vars='index')\n",
    "bool_corr_neg.columns = ['x', 'y', 'value']\n",
    "bool_corr_pos"
   ],
   "metadata": {
    "collapsed": false,
    "pycharm": {
     "name": "#%%\n"
    }
   }
  },
  {
   "cell_type": "code",
   "execution_count": 8,
   "outputs": [],
   "source": [
    "fig = px.scatter(\n",
    "    bool_corr_pos,\n",
    "    x='x',\n",
    "    y=bool_corr_pos['y'],\n",
    "    size=bool_corr_pos['value'].fillna(0).abs() * 500,\n",
    "    symbol_sequence=['square'],\n",
    "    color=bool_corr_pos['value'].abs(),\n",
    "    title='COVID-19 Symptom Correlation for testing <em>POSITIVE</em>.<br>'\n",
    "          'Source:<a href=\"https://github.com/mdcollab/covidclinicaldata\">'\n",
    "          'Coronavirus Disease 2019 (COVID-19) Clinical Data Repository</a>',\n",
    "    )\n",
    "fig.update_xaxes(showgrid=True, ticks='outside', tickson='boundaries',\n",
    "                 scaleratio=1, scaleanchor='y', title_text='symptoms',\n",
    "                 tickangle=30)\n",
    "fig.update_yaxes(showgrid=True, ticks='outside', tickson='boundaries',\n",
    "                 scaleratio=1, title_text='symptoms')\n",
    "fig.write_html('../charts/covid-19_positive_symptom_correlation_matrix.html')\n"
   ],
   "metadata": {
    "collapsed": false,
    "pycharm": {
     "name": "#%%\n"
    }
   }
  },
  {
   "cell_type": "code",
   "execution_count": 9,
   "outputs": [],
   "source": [
    "fig = px.scatter(\n",
    "    bool_corr_neg,\n",
    "    x='x',\n",
    "    y=bool_corr_neg['y'],\n",
    "    size=bool_corr_neg['value'].fillna(0).abs() * 500,\n",
    "    symbol_sequence=['square'],\n",
    "    color=bool_corr_neg['value'].abs(),\n",
    "    title='COVID-19 Symptom Correlation for testing <em>NEGATIVE</em>.<br>'\n",
    "          'Source:<a href=\"https://github.com/mdcollab/covidclinicaldata\">'\n",
    "          'Coronavirus Disease 2019 (COVID-19) Clinical Data Repository</a>',\n",
    "    )\n",
    "fig.update_xaxes(showgrid=True, ticks='outside', tickson='boundaries',\n",
    "                 scaleratio=1, scaleanchor='y', title_text='symptoms',\n",
    "                 tickangle=30)\n",
    "fig.update_yaxes(showgrid=True, ticks='outside', tickson='boundaries',\n",
    "                 scaleratio=1, title_text='symptoms')\n",
    "fig.write_html('../charts/covid-19_negative_symptom_correlation_matrix.html')"
   ],
   "metadata": {
    "collapsed": false,
    "pycharm": {
     "name": "#%%\n"
    }
   }
  }
 ],
 "metadata": {
  "kernelspec": {
   "display_name": "Python 3",
   "language": "python",
   "name": "python3"
  },
  "language_info": {
   "codemirror_mode": {
    "name": "ipython",
    "version": 2
   },
   "file_extension": ".py",
   "mimetype": "text/x-python",
   "name": "python",
   "nbconvert_exporter": "python",
   "pygments_lexer": "ipython2",
   "version": "2.7.6"
  }
 },
 "nbformat": 4,
 "nbformat_minor": 0
}